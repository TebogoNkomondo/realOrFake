{
 "cells": [
  {
   "cell_type": "markdown",
   "metadata": {},
   "source": [
    "## Project Update"
   ]
  },
  {
   "cell_type": "markdown",
   "metadata": {},
   "source": [
    "### Analysis\n",
    "- there are 7613 data points\n",
    "- 0.80% of the data has missing entries on the keyword column.\n",
    "- **33.27%** of the data has missing entires on the location column.\n",
    "- Data is ordered in terms of keyword used to extact the tweet from twitter. \n"
   ]
  },
  {
   "cell_type": "markdown",
   "metadata": {},
   "source": [
    "### Decisions \n",
    "\n",
    "- The most important columns are the text and target columns\n",
    "- Missing values on the keyword column can be discarded since the keywords appears within the tweet text itself.\n",
    "- There is no meaningful link between the location and the frequency of the disaster and for this reason, the location column has been dropped.\n",
    "- We also tried including the location in the training of our models but they do not add any value."
   ]
  },
  {
   "cell_type": "markdown",
   "metadata": {},
   "source": [
    "## Models and Feature Representation"
   ]
  },
  {
   "cell_type": "markdown",
   "metadata": {},
   "source": [
    "Multilayer Perception has been used as the Neural Network Architecture so far.\n",
    "\n",
    "Feature Representation used are:\n",
    "\n",
    "- One-hot encoding\n",
    "- Keras embedding layer\n",
    "- word2vec"
   ]
  },
  {
   "cell_type": "markdown",
   "metadata": {},
   "source": [
    "### MLP with One-hot Encoding (base model)"
   ]
  },
  {
   "cell_type": "markdown",
   "metadata": {},
   "source": [
    "### Summary of Base model\n",
    "- The highest achievable accuracy is 78%.\n",
    "- F1 score is 0.74.\n",
    "- Recall and Precision are 70.2% and 78.4% respectively.\n",
    "- Model starts overfitting on the 3rd epoch.\n",
    "- Validation loss never goes below ~0.45.\n",
    "- Attempts were made to vary the batch size. Large batch sizes yield worse performance. The best performance is at 32 or 16.\n",
    "- Increasing the number of layers also results in worse performance. Less layers produce better performance.\n",
    "- Drop out layers make little to no difference in performance.\n",
    "- Including tweets without the keyword seems to yield better performance.\n",
    "- Data cleaning produced a slightly less validation loss but not significant enough.\n",
    "- Hyperparameter tuning suggest that the model can only achive accuracy of 80.04%"
   ]
  },
  {
   "cell_type": "markdown",
   "metadata": {},
   "source": [
    "### MLP with Keras Embedding Layer"
   ]
  },
  {
   "cell_type": "markdown",
   "metadata": {},
   "source": [
    "### Summary of Keras Embedding Layer\n",
    "- The highest achievable accuracy is 77%.\n",
    "- F1 score is 0.71.\n",
    "- Recall and Precision are 63.7% and 80.5% respectively.\n",
    "- Model starts overfitting on the 4-5th epoch.\n",
    "- Validation loss never goes below ~0.46.\n",
    "- Best performance is at batch size of 64 or 128.\n",
    "- The base model seems to be better than this in terms of accuracy."
   ]
  },
  {
   "cell_type": "markdown",
   "metadata": {},
   "source": [
    "### MLP with Word2vec (Pretrained embeddings)\n",
    "\n",
    "- The highest achievable accuracy is 78%.\n",
    "- F1 score is 0.75 and the FPR score is better.\n",
    "- Recall and Precision are 78% and 72% respectively.\n",
    "- Model starts overfitting on the 5th epoch.\n",
    "- Validation loss never goes below ~0.49.\n",
    "- Best performance is at batch size of 10."
   ]
  },
  {
   "cell_type": "markdown",
   "metadata": {},
   "source": [
    "## Hyperparameter Tuning\n",
    "\n",
    "- GridSearchCV\n",
    "- RandomizedSearchCV"
   ]
  },
  {
   "cell_type": "markdown",
   "metadata": {},
   "source": [
    "## Analysis\n",
    "\n",
    "- The inclusion of the keyword and location features does not change the performance of the model.\n",
    "- The overall performance of the models is good.\n",
    "- Pre-trained word2vec model gives better performance.\n",
    "- The performance is expected to improve when using RNN and LSTM architectures."
   ]
  },
  {
   "cell_type": "markdown",
   "metadata": {},
   "source": [
    "### Next Step"
   ]
  },
  {
   "cell_type": "markdown",
   "metadata": {},
   "source": [
    "- Implementing Recurrent Neural network for the same feature representation techniques.\n",
    "- Implementing LSTM and,\n",
    "- Using Twitter API."
   ]
  },
  {
   "cell_type": "code",
   "execution_count": null,
   "metadata": {},
   "outputs": [],
   "source": []
  }
 ],
 "metadata": {
  "kernelspec": {
   "display_name": "Python 3",
   "language": "python",
   "name": "python3"
  },
  "language_info": {
   "codemirror_mode": {
    "name": "ipython",
    "version": 3
   },
   "file_extension": ".py",
   "mimetype": "text/x-python",
   "name": "python",
   "nbconvert_exporter": "python",
   "pygments_lexer": "ipython3",
   "version": "3.7.6"
  }
 },
 "nbformat": 4,
 "nbformat_minor": 4
}
