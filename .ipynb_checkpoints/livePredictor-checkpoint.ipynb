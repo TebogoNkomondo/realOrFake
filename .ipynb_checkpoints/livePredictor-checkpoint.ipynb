{
 "cells": [
  {
   "cell_type": "code",
   "execution_count": 1,
   "metadata": {},
   "outputs": [],
   "source": [
    "import json\n",
    "import numpy as np\n",
    "import keras\n",
    "import keras.preprocessing.text as kpt\n",
    "from keras.preprocessing.text import Tokenizer\n",
    "from keras.models import model_from_json\n",
    "from keras.preprocessing.sequence import pad_sequences"
   ]
  },
  {
   "cell_type": "code",
   "execution_count": 2,
   "metadata": {},
   "outputs": [],
   "source": [
    "# we're still going to use a Tokenizer here, but we don't need to fit it\n",
    "tokenizer = Tokenizer(num_words=3000)\n",
    "# for human-friendly printing\n",
    "labels = ['fake', 'real']\n",
    "\n",
    "# read in our saved dictionary\n",
    "with open('./Dictionary_Models/dictionary.json', 'r') as dictionary_file:\n",
    "    dictionary = json.load(dictionary_file)"
   ]
  },
  {
   "cell_type": "code",
   "execution_count": 3,
   "metadata": {},
   "outputs": [],
   "source": [
    "# this utility makes sure that all the words in your input\n",
    "# are registered in the dictionary\n",
    "# before trying to turn them into a matrix.\n",
    "def convert_text_to_index_array(text):\n",
    "    words = kpt.text_to_word_sequence(text)\n",
    "    wordIndices = []\n",
    "    for word in words:\n",
    "        if word in dictionary:\n",
    "            wordIndices.append(dictionary[word])\n",
    "        # else:\n",
    "        #     print(\"'%s' not in training corpus; ignoring.\" %(word))\n",
    "    return wordIndices"
   ]
  },
  {
   "cell_type": "code",
   "execution_count": 4,
   "metadata": {},
   "outputs": [],
   "source": [
    "# read in your saved model structure\n",
    "json_file = open('./NN_Models/word2vec_BLSTM_model.json', 'r')\n",
    "loaded_model_json = json_file.read()\n",
    "json_file.close()\n",
    "# and create a model from that\n",
    "model = model_from_json(loaded_model_json)\n",
    "# and weight your nodes with your saved values\n",
    "model.load_weights('./NN_Models/word2vec_BLSTM_model.h5')\n"
   ]
  },
  {
   "cell_type": "code",
   "execution_count": null,
   "metadata": {},
   "outputs": [],
   "source": [
    "\n",
    "while 1:\n",
    "    evalSentence =input('Input a sentence to be evaluated, or Enter to quit:')\n",
    "\n",
    "    if len(evalSentence) == 0:\n",
    "        break\n",
    "        \n",
    "    max_length = max([len(s.split()) for s in evalSentence])\n",
    "    evalT = tokenizer.texts_to_sequences(evalSentence)\n",
    "    evalT = pad_sequences(evalT, maxlen=max_length, padding='post')\n",
    "    print(evalT)\n",
    "    \n",
    "    pred = model.predict(evalT)\n",
    " \n",
    "    print(' sentiment: ', labels[np.argmax(pred)])\n",
    "    \n",
    "\n",
    "#     testArr = convert_text_to_index_array(evalSentence)\n",
    "#     input = tokenizer.sequences_to_matrix(testArr, mode='binary')\n",
    "#     # predict which bucket your input belongs in\n",
    "\n",
    "# #     format your input for the neural net\n",
    "#     testArr = convert_text_to_index_array(text1)\n",
    "#     input = tokenizer.sequences_to_matrix([testArr], mode='binary')\n",
    "    \n",
    "#     pred = model.predict(input)\n",
    " \n",
    "#     print(' sentiment: ', labels[np.argmax(pred)])\n",
    "       "
   ]
  },
  {
   "cell_type": "code",
   "execution_count": null,
   "metadata": {},
   "outputs": [],
   "source": []
  }
 ],
 "metadata": {
  "kernelspec": {
   "display_name": "py3-TF2.0",
   "language": "python",
   "name": "py3-tf2.0"
  },
  "language_info": {
   "codemirror_mode": {
    "name": "ipython",
    "version": 3
   },
   "file_extension": ".py",
   "mimetype": "text/x-python",
   "name": "python",
   "nbconvert_exporter": "python",
   "pygments_lexer": "ipython3",
   "version": "3.8.3"
  }
 },
 "nbformat": 4,
 "nbformat_minor": 2
}
