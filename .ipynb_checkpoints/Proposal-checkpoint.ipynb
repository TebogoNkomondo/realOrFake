{
 "cells": [
  {
   "cell_type": "markdown",
   "metadata": {},
   "source": [
    "# Project Proposal"
   ]
  },
  {
   "cell_type": "markdown",
   "metadata": {},
   "source": [
    "- Flow-Chart"
   ]
  },
  {
   "cell_type": "markdown",
   "metadata": {},
   "source": [
    "## Raw Data"
   ]
  },
  {
   "cell_type": "code",
   "execution_count": 4,
   "metadata": {},
   "outputs": [
    {
     "data": {
      "text/html": [
       "<div>\n",
       "<style scoped>\n",
       "    .dataframe tbody tr th:only-of-type {\n",
       "        vertical-align: middle;\n",
       "    }\n",
       "\n",
       "    .dataframe tbody tr th {\n",
       "        vertical-align: top;\n",
       "    }\n",
       "\n",
       "    .dataframe thead th {\n",
       "        text-align: right;\n",
       "    }\n",
       "</style>\n",
       "<table border=\"1\" class=\"dataframe\">\n",
       "  <thead>\n",
       "    <tr style=\"text-align: right;\">\n",
       "      <th></th>\n",
       "      <th>id</th>\n",
       "      <th>keyword</th>\n",
       "      <th>location</th>\n",
       "      <th>text</th>\n",
       "      <th>target</th>\n",
       "    </tr>\n",
       "  </thead>\n",
       "  <tbody>\n",
       "    <tr>\n",
       "      <th>count</th>\n",
       "      <td>7613.000000</td>\n",
       "      <td>7552</td>\n",
       "      <td>5080</td>\n",
       "      <td>7613</td>\n",
       "      <td>7613.00000</td>\n",
       "    </tr>\n",
       "    <tr>\n",
       "      <th>unique</th>\n",
       "      <td>NaN</td>\n",
       "      <td>221</td>\n",
       "      <td>3341</td>\n",
       "      <td>7503</td>\n",
       "      <td>NaN</td>\n",
       "    </tr>\n",
       "    <tr>\n",
       "      <th>top</th>\n",
       "      <td>NaN</td>\n",
       "      <td>fatalities</td>\n",
       "      <td>USA</td>\n",
       "      <td>11-Year-Old Boy Charged With Manslaughter of T...</td>\n",
       "      <td>NaN</td>\n",
       "    </tr>\n",
       "    <tr>\n",
       "      <th>freq</th>\n",
       "      <td>NaN</td>\n",
       "      <td>45</td>\n",
       "      <td>104</td>\n",
       "      <td>10</td>\n",
       "      <td>NaN</td>\n",
       "    </tr>\n",
       "    <tr>\n",
       "      <th>mean</th>\n",
       "      <td>5441.934848</td>\n",
       "      <td>NaN</td>\n",
       "      <td>NaN</td>\n",
       "      <td>NaN</td>\n",
       "      <td>0.42966</td>\n",
       "    </tr>\n",
       "    <tr>\n",
       "      <th>std</th>\n",
       "      <td>3137.116090</td>\n",
       "      <td>NaN</td>\n",
       "      <td>NaN</td>\n",
       "      <td>NaN</td>\n",
       "      <td>0.49506</td>\n",
       "    </tr>\n",
       "    <tr>\n",
       "      <th>min</th>\n",
       "      <td>1.000000</td>\n",
       "      <td>NaN</td>\n",
       "      <td>NaN</td>\n",
       "      <td>NaN</td>\n",
       "      <td>0.00000</td>\n",
       "    </tr>\n",
       "    <tr>\n",
       "      <th>25%</th>\n",
       "      <td>2734.000000</td>\n",
       "      <td>NaN</td>\n",
       "      <td>NaN</td>\n",
       "      <td>NaN</td>\n",
       "      <td>0.00000</td>\n",
       "    </tr>\n",
       "    <tr>\n",
       "      <th>50%</th>\n",
       "      <td>5408.000000</td>\n",
       "      <td>NaN</td>\n",
       "      <td>NaN</td>\n",
       "      <td>NaN</td>\n",
       "      <td>0.00000</td>\n",
       "    </tr>\n",
       "    <tr>\n",
       "      <th>75%</th>\n",
       "      <td>8146.000000</td>\n",
       "      <td>NaN</td>\n",
       "      <td>NaN</td>\n",
       "      <td>NaN</td>\n",
       "      <td>1.00000</td>\n",
       "    </tr>\n",
       "    <tr>\n",
       "      <th>max</th>\n",
       "      <td>10873.000000</td>\n",
       "      <td>NaN</td>\n",
       "      <td>NaN</td>\n",
       "      <td>NaN</td>\n",
       "      <td>1.00000</td>\n",
       "    </tr>\n",
       "  </tbody>\n",
       "</table>\n",
       "</div>"
      ],
      "text/plain": [
       "                  id     keyword location  \\\n",
       "count    7613.000000        7552     5080   \n",
       "unique           NaN         221     3341   \n",
       "top              NaN  fatalities      USA   \n",
       "freq             NaN          45      104   \n",
       "mean     5441.934848         NaN      NaN   \n",
       "std      3137.116090         NaN      NaN   \n",
       "min         1.000000         NaN      NaN   \n",
       "25%      2734.000000         NaN      NaN   \n",
       "50%      5408.000000         NaN      NaN   \n",
       "75%      8146.000000         NaN      NaN   \n",
       "max     10873.000000         NaN      NaN   \n",
       "\n",
       "                                                     text      target  \n",
       "count                                                7613  7613.00000  \n",
       "unique                                               7503         NaN  \n",
       "top     11-Year-Old Boy Charged With Manslaughter of T...         NaN  \n",
       "freq                                                   10         NaN  \n",
       "mean                                                  NaN     0.42966  \n",
       "std                                                   NaN     0.49506  \n",
       "min                                                   NaN     0.00000  \n",
       "25%                                                   NaN     0.00000  \n",
       "50%                                                   NaN     0.00000  \n",
       "75%                                                   NaN     1.00000  \n",
       "max                                                   NaN     1.00000  "
      ]
     },
     "execution_count": 4,
     "metadata": {},
     "output_type": "execute_result"
    }
   ],
   "source": [
    "import pandas as pd\n",
    "data = pd.read_csv('./nlp-getting-started/train.csv')\n",
    "data.describe(include='all')"
   ]
  },
  {
   "cell_type": "code",
   "execution_count": 5,
   "metadata": {},
   "outputs": [
    {
     "data": {
      "text/html": [
       "<div>\n",
       "<style scoped>\n",
       "    .dataframe tbody tr th:only-of-type {\n",
       "        vertical-align: middle;\n",
       "    }\n",
       "\n",
       "    .dataframe tbody tr th {\n",
       "        vertical-align: top;\n",
       "    }\n",
       "\n",
       "    .dataframe thead th {\n",
       "        text-align: right;\n",
       "    }\n",
       "</style>\n",
       "<table border=\"1\" class=\"dataframe\">\n",
       "  <thead>\n",
       "    <tr style=\"text-align: right;\">\n",
       "      <th></th>\n",
       "      <th>id</th>\n",
       "      <th>keyword</th>\n",
       "      <th>location</th>\n",
       "      <th>text</th>\n",
       "      <th>target</th>\n",
       "    </tr>\n",
       "  </thead>\n",
       "  <tbody>\n",
       "    <tr>\n",
       "      <th>0</th>\n",
       "      <td>1</td>\n",
       "      <td>NaN</td>\n",
       "      <td>NaN</td>\n",
       "      <td>Our Deeds are the Reason of this #earthquake M...</td>\n",
       "      <td>1</td>\n",
       "    </tr>\n",
       "    <tr>\n",
       "      <th>1</th>\n",
       "      <td>4</td>\n",
       "      <td>NaN</td>\n",
       "      <td>NaN</td>\n",
       "      <td>Forest fire near La Ronge Sask. Canada</td>\n",
       "      <td>1</td>\n",
       "    </tr>\n",
       "    <tr>\n",
       "      <th>2</th>\n",
       "      <td>5</td>\n",
       "      <td>NaN</td>\n",
       "      <td>NaN</td>\n",
       "      <td>All residents asked to 'shelter in place' are ...</td>\n",
       "      <td>1</td>\n",
       "    </tr>\n",
       "    <tr>\n",
       "      <th>3</th>\n",
       "      <td>6</td>\n",
       "      <td>NaN</td>\n",
       "      <td>NaN</td>\n",
       "      <td>13,000 people receive #wildfires evacuation or...</td>\n",
       "      <td>1</td>\n",
       "    </tr>\n",
       "    <tr>\n",
       "      <th>4</th>\n",
       "      <td>7</td>\n",
       "      <td>NaN</td>\n",
       "      <td>NaN</td>\n",
       "      <td>Just got sent this photo from Ruby #Alaska as ...</td>\n",
       "      <td>1</td>\n",
       "    </tr>\n",
       "  </tbody>\n",
       "</table>\n",
       "</div>"
      ],
      "text/plain": [
       "   id keyword location                                               text  \\\n",
       "0   1     NaN      NaN  Our Deeds are the Reason of this #earthquake M...   \n",
       "1   4     NaN      NaN             Forest fire near La Ronge Sask. Canada   \n",
       "2   5     NaN      NaN  All residents asked to 'shelter in place' are ...   \n",
       "3   6     NaN      NaN  13,000 people receive #wildfires evacuation or...   \n",
       "4   7     NaN      NaN  Just got sent this photo from Ruby #Alaska as ...   \n",
       "\n",
       "   target  \n",
       "0       1  \n",
       "1       1  \n",
       "2       1  \n",
       "3       1  \n",
       "4       1  "
      ]
     },
     "execution_count": 5,
     "metadata": {},
     "output_type": "execute_result"
    }
   ],
   "source": [
    "data.head()"
   ]
  },
  {
   "cell_type": "markdown",
   "metadata": {},
   "source": [
    "### Analysis\n",
    "- there are 7613 data points\n",
    "- 0.80% of the data has missing entries on the keyword column.\n",
    "- **33.27%** of the data has missing entires on the location column.\n",
    "- Data is ordered in terms of keyword used to extact the tweet from twitter -> shuffle the data for training. \n",
    "- The **#** symbol is a comment when data is stored on a numpy array hence remove all # symbols.\n",
    "- The **,** symbol is a column delimeter, hence remove it from the location and text columns."
   ]
  },
  {
   "cell_type": "markdown",
   "metadata": {},
   "source": [
    "### Decisions \n",
    "\n",
    "- The most important columns are the text and target columns\n",
    "- Missing values on the keyword column can be discarded since the keywords appears within the tweet text itself.\n",
    "- The location column can not be discarded because only 66.73% have a location value associated with them. Droping 33% of the data is impractical\n",
    "- It is however worth exploring whether location of tweet has an impact on the real or fake status of a tweet\n",
    "- e.g. In some locations such as a city centre there cannot be a veld fire - so that is a consideration to be made"
   ]
  },
  {
   "cell_type": "markdown",
   "metadata": {},
   "source": [
    "## Data Processing"
   ]
  },
  {
   "cell_type": "markdown",
   "metadata": {},
   "source": [
    "- Data has to be transformed into features to act as inputs for machine learning model in Tensorflow.\n",
    "- Tweets can be represented using vectors(tensors).\n",
    "- The popular feature representation techniques:\n",
    "            - One-Hot Encoding\n",
    "            - TF-IDF\n",
    "            - Word Embedding\n",
    "         \n",
    "__1. One-Hot Encoding__\n",
    "\n",
    "- Tockenize all words in text.\n",
    "- Create a dictionary of size=**n**.\n",
    "- {key:value} where key=word and value=integer number representation\n",
    "- Individual words are then represented using vectors of size **n**.\n",
    "- Each vector has a single entry that is set to 1 while the others are set to 0.\n",
    "- Example:\n",
    "       \n",
    "       Tockenized words:\n",
    "       ['complex', 'is', 'better', 'than', 'complicated', 'flat', 'is', 'better', 'than', 'nested']\n",
    "        \n",
    "       Dictionary: \n",
    "        {\n",
    "          'complex': 0,\n",
    "          'is': 1,\n",
    "          'better': 2,\n",
    "          'than': 3,\n",
    "          'complicated': 4,\n",
    "          'flat': 5,\n",
    "          'nested': 6,\n",
    "        }\n",
    "\n",
    "        One-hot encoding:\n",
    "        [\n",
    "          [1, 0, 0, 0, 0, 0, 0], #complex \n",
    "          [0, 1, 0, 0, 0, 0, 0], #is \n",
    "          [0, 0, 1, 0, 0, 0, 0], #better \n",
    "          [0, 0, 0, 1, 0, 0, 0], #than \n",
    "          [0, 0, 0, 0, 1, 0, 0], #complicated \n",
    "        ]\n",
    "\n",
    "__2. TF-IDF__\n",
    "\n",
    "- TF-IDF is a score that represents the relative importance of a term in the document and the entire corpus\n",
    "- Tokenize all the words in the documents\n",
    "- Create dictionaries for each document of size=n\n",
    "- Create a unique a union (collection of unique words from all docs)\n",
    "- For each document, count the number of times a word appears\n",
    "- Total score of a word: tf(w)*id(w)\n",
    "- Where t(w): (number of times a word appears in a document)/(Total number of words in the document)\n",
    "- id(w): log(Number of documents/Number of documents that contain word w)\n",
    "    \n",
    "__Tokenized bag of words into numbers for below phrases may output:__  \n",
    "\n",
    "* the cat sat on my face\n",
    "* the dog sat on my bed\n",
    "\n",
    "| ||bed||cat||dog||face||my||on||sat||the|\n",
    "|----||----||---||----||--||----||--||--||----|\n",
    "|0||0||1||0||1||1||1||1||1|\n",
    "|1||1||0||1||0||1||1||1||1|\n",
    "\n",
    "__TF-IDF gives this__\n",
    "\n",
    "| ||bed||cat||dog||face||my||on||sat||the|\n",
    "|----||----||---||----||--||----||--||--||----|\n",
    "|0||0.0000||0.1155||0.0000||0.1155||0.0000||0.0000||0.0000||0.0000|\n",
    "|1||0.1155||0.0000||0.1155||0.0000||0.0000||0.0000||0.0000||0.0000|\n",
    "\n",
    "- Two sentences with some common words but don't say the same thing\n",
    "- But, turning ba representation does not show that differentiation\n",
    "- TF-IDF neglects the most common words (highest frequecy) and shows us the main important words in the sentence.\n",
    " \n",
    "__3. Word Embedding__\n",
    "\n",
    "- Words are represented using feature vectors.\n",
    "- Example: \n",
    "    - Rows are features\n",
    "    - Columns are words\n",
    "\n",
    "|   | He  | is  | a  | good  |  boy |\n",
    "|---|---|---|---|---|---|\n",
    "| gender  | 1.2  | 0.3  | 0.01  | 0.002  | 1.3  |\n",
    "|  character | 0.01  | 0.03  |  0.0003 |  1.2 |0.01   |\n",
    "|  . | .  |  . |  . | .  | .  |\n",
    "|  . |  . |  . | .  | .  | .  |\n",
    "|  . | .  |  . | .  | .  |.   |\n",
    "|  n |  . |  . |  . | .  | .  |\n",
    "\n",
    "- Common techniques in Python are:\n",
    "    1. Word2Vec: CBOW and SkipGram\n",
    "    2. Embedding layer on Keras\n",
    "    3. Glove"
   ]
  },
  {
   "cell_type": "markdown",
   "metadata": {},
   "source": [
    "## Machine Learning Model"
   ]
  },
  {
   "cell_type": "markdown",
   "metadata": {},
   "source": [
    "### Learning\n",
    "\n",
    "- Input will be batched.\n",
    "- Batching allows for multiple CPU cores to train on the data concurrently.\n",
    "- Stochastic Gradient Descent also allows for weights to be updated after training on a single batch is completed as opposed to at the end of an epoch.\n",
    "- The machine learning model contains sevaral parameters and hyper-parameters:\n",
    "\n",
    "| Hyper-Parameters  | Parameter  | \n",
    "|---|---|\n",
    "| Set by user  | Updated automatically during training  |  \n",
    "|  Number of hidden layers | Weights  | \n",
    "| Width of hidden layers | Bias |  \n",
    "| Learning rate  |   |  \n",
    "\n",
    "**Training**\n",
    "\n",
    "- When training the aim is to minimise a loss/cost function.\n",
    "- For classification tasks the common loss function is the cross-entropy loss function: <br/>\n",
    "$L(w,b) = \\sum t_{i} log y_i$\n",
    "- where $t_i$ is the target and $y_i$ is the obtained output\n",
    "- To minimize this cost function an optimization algorithm is used.\n",
    "- A common optimization algorithm is Gradient Descent: $ x_{i+1} = x_{i} - \\eta \\cdot f'(x)$\n",
    "- In gradient descent an initial value of x is chosen. \n",
    "- The initial value is then used to calculate the next value.\n",
    "- The difference between the value of x at i and i+1 is evaluated.\n",
    "- When this difference is small it indicates that the minimum has been reached or that we are close to the minimum.\n",
    "- When there are multiple minima, gradient descent is likely to classify a local minima as the global minima.\n",
    "- To solve this, the learning rate should be carefully chosen.\n",
    "\n",
    "**Gradient Descent Illustration**\n"
   ]
  },
  {
   "cell_type": "code",
   "execution_count": 2,
   "metadata": {},
   "outputs": [
    {
     "data": {
      "text/plain": [
       "[<matplotlib.lines.Line2D at 0x7f4c8c837b10>]"
      ]
     },
     "execution_count": 2,
     "metadata": {},
     "output_type": "execute_result"
    },
    {
     "data": {
      "image/png": "[encoded data removed]",
      "text/plain": [
       "<Figure size 432x288 with 1 Axes>"
      ]
     },
     "metadata": {
      "needs_background": "light"
     },
     "output_type": "display_data"
    }
   ],
   "source": [
    "import matplotlib.pyplot as plt\n",
    "import numpy as np\n",
    "\n",
    "# create 1000 equally spaced points between -10 and 10\n",
    "x = np.linspace(-10, 10, 1000)\n",
    "\n",
    "# calculate the y value for each element of the x vector\n",
    "y = x**2 + 2*x + 2  \n",
    "\n",
    "fig, ax = plt.subplots()\n",
    "ax.set_title('Gradient descent illustration')\n",
    "ax.set_xlabel('Time')\n",
    "ax.set_ylabel('Loss function')\n",
    "ax.plot(x, y) "
   ]
  },
  {
   "cell_type": "markdown",
   "metadata": {},
   "source": [
    "**Learning rate** - determines how large the steps taken while in descent are.(the rate at which the ML algorithm forgets old beliefs for new ones).\n",
    "- If too large it will oscillate around the minimum altogether\n",
    "- If too small too many iterations will be needing which would take impractical amounts of time to finish\n",
    "- The inability of GD to detect can be overcome by taking into consideration the momentum.\n",
    "- Learning rate schedules can be used to find the optimal learning rate\n",
    "- Some learning rate schedules include AdaGrad, RMSprop and Adam. For this project Adam(Adaptive moment estimation) will be used."
   ]
  },
  {
   "cell_type": "markdown",
   "metadata": {},
   "source": [
    "**Back Propagation**\n",
    "- The weights and biases are randomly initialized.\n",
    "- Forward propagation is performed and the loss at the end is computed.\n",
    "- The weights and biases are updated by a fraction of the differential of the loss function.\n",
    "- The process is repeated until a min loss function is obtained."
   ]
  },
  {
   "cell_type": "markdown",
   "metadata": {},
   "source": [
    "### Validation.\n",
    "\n",
    "- The validation data is used to detect over-fitting.\n",
    "- The training data will be split into a training set, validation set and testing set.\n",
    "- The split ratio is 80:10:10\n",
    "- At the end of an epoch a forward pass is performed on the validation data set and the loss function of that data is calculated.\n",
    "- This is called the validation loss.\n",
    "- The validation loss is expected to be close to the training loss. \n",
    "- The validation loss is expected to decrease with the training loss.\n",
    "- Once the validation loss starts increasing, it indicates that the model is over-fitting.\n",
    "- No backward propagation is performed on the validation data since this would defeat the purpose of detecting over-fitting.\n",
    "- Early stopping can be used to stop training once the validation loss starts increasing."
   ]
  },
  {
   "cell_type": "markdown",
   "metadata": {},
   "source": [
    "### Testing"
   ]
  },
  {
   "cell_type": "markdown",
   "metadata": {},
   "source": [
    "- Once the model has been trained and validated. The testing data will be input into the model and the error of the model will be obtained.\n",
    "- The initial target accuracy for this project is 80%."
   ]
  },
  {
   "cell_type": "markdown",
   "metadata": {},
   "source": [
    "### Machine Learning Model Architectures."
   ]
  },
  {
   "cell_type": "markdown",
   "metadata": {},
   "source": [
    "1. **Multi-Layer perceptron**\n",
    "    - The most basic NN architechure. \n",
    "    - Evaluates input at each node independently.\n",
    "    \n",
    "    \n",
    "2. **Recurrent Neural Network**\n",
    "    - The multilayer perceptron does not model relationships between different words in a sentence sequence.\n",
    "    - RNNs solve this by considering the hidden state from previous layers at the current layer.\n",
    "    - The hidden state and current input are used to compute the hidden state of the current layer.\n",
    "    - This means the relationship between sequential words is captured.\n",
    "3. **Long short-term memory (LSTM)** \n",
    "    - RNNs suffer from a vanishing gradient.\n",
    "    - This means that the gradient shrinks as it propagates through time.\n",
    "    - This leads to ealier layers getting small gradient updates\n",
    "    - Hence RNNs tend to forget what they have seen in ealier sequences.\n",
    "    - LSTMs have gates which regulate the flow of information.\n",
    "    - The gates learn which information in a sequence is important to keep and which information to forget.\n"
   ]
  }
 ],
 "metadata": {
  "kernelspec": {
   "display_name": "Python 3",
   "language": "python",
   "name": "python3"
  },
  "language_info": {
   "codemirror_mode": {
    "name": "ipython",
    "version": 3
   },
   "file_extension": ".py",
   "mimetype": "text/x-python",
   "name": "python",
   "nbconvert_exporter": "python",
   "pygments_lexer": "ipython3",
   "version": "3.7.4"
  }
 },
 "nbformat": 4,
 "nbformat_minor": 2
}
