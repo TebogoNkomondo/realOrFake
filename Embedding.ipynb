{
  "nbformat": 4,
  "nbformat_minor": 0,
  "metadata": {
    "colab": {
      "name": "Embedding.ipynb",
      "provenance": [],
      "toc_visible": true
    },
    "kernelspec": {
      "name": "python3",
      "display_name": "Python 3"
    }
  },
  "cells": [
    {
      "cell_type": "markdown",
      "metadata": {
        "id": "DqZ7jMP_2SZ0",
        "colab_type": "text"
      },
      "source": [
        "# Base Model"
      ]
    },
    {
      "cell_type": "markdown",
      "metadata": {
        "id": "UnpurzoT2Zhc",
        "colab_type": "text"
      },
      "source": [
        "## Importing relevant libraries"
      ]
    },
    {
      "cell_type": "code",
      "metadata": {
        "id": "thX3dYeO2grs",
        "colab_type": "code",
        "colab": {
          "base_uri": "https://localhost:8080/",
          "height": 71
        },
        "outputId": "e81ad33e-2f9a-497c-975c-4e1eae2ed566"
      },
      "source": [
        "import json\n",
        "import keras\n",
        "import pandas as pd\n",
        "import keras.preprocessing.text as kpt\n",
        "from keras.preprocessing.text import Tokenizer\n",
        "import numpy as np\n",
        "from sklearn.model_selection import train_test_split\n",
        "\n",
        "from keras.models import Sequential\n",
        "from keras.layers import Dense, LSTM, SimpleRNN, Dropout, Activation, Embedding, Flatten\n",
        "from keras.layers import GlobalAveragePooling1D, Reshape\n",
        "from tensorflow.keras.preprocessing.text import one_hot\n",
        "from datetime import datetime\n",
        "import tensorflow as tf\n",
        "from tensorflow.keras.callbacks import EarlyStopping\n",
        "from tensorflow.keras.preprocessing.sequence import pad_sequences\n",
        "\n",
        "import matplotlib.pyplot as plt\n",
        "\n",
        "from sklearn.metrics import confusion_matrix\n",
        "\n",
        "import json\n",
        "from keras.models import model_from_json\n",
        "\n",
        "# Import libraries\n",
        "import seaborn as sns\n",
        "from sklearn.feature_extraction.text import CountVectorizer\n",
        "import nltk \n",
        "# nltk.download()\n",
        "import string\n",
        "import re\n",
        "%matplotlib inline\n",
        "pd.set_option('display.max_colwidth', 100)"
      ],
      "execution_count": 1,
      "outputs": [
        {
          "output_type": "stream",
          "text": [
            "/usr/local/lib/python3.6/dist-packages/statsmodels/tools/_testing.py:19: FutureWarning: pandas.util.testing is deprecated. Use the functions in the public API at pandas.testing instead.\n",
            "  import pandas.util.testing as tm\n"
          ],
          "name": "stderr"
        }
      ]
    },
    {
      "cell_type": "markdown",
      "metadata": {
        "id": "_V98JwYY2t-Z",
        "colab_type": "text"
      },
      "source": [
        "## Exploring data"
      ]
    },
    {
      "cell_type": "code",
      "metadata": {
        "id": "jew4wiEI2xaf",
        "colab_type": "code",
        "colab": {
          "base_uri": "https://localhost:8080/",
          "height": 204
        },
        "outputId": "1a558fa7-3457-4df4-e24a-2a3b41e9098d"
      },
      "source": [
        "data = pd.read_csv('/content/drive/My Drive/train.csv')\n",
        "# Only alter the training variable (#never alter the data variable itself)\n",
        "# training = data\n",
        "# # split the data into train and test set\n",
        "# train, test = train_test_split(train, test_size=0.1, random_state=42, shuffle=True)\n",
        "data.head()"
      ],
      "execution_count": 2,
      "outputs": [
        {
          "output_type": "execute_result",
          "data": {
            "text/html": [
              "<div>\n",
              "<style scoped>\n",
              "    .dataframe tbody tr th:only-of-type {\n",
              "        vertical-align: middle;\n",
              "    }\n",
              "\n",
              "    .dataframe tbody tr th {\n",
              "        vertical-align: top;\n",
              "    }\n",
              "\n",
              "    .dataframe thead th {\n",
              "        text-align: right;\n",
              "    }\n",
              "</style>\n",
              "<table border=\"1\" class=\"dataframe\">\n",
              "  <thead>\n",
              "    <tr style=\"text-align: right;\">\n",
              "      <th></th>\n",
              "      <th>id</th>\n",
              "      <th>keyword</th>\n",
              "      <th>location</th>\n",
              "      <th>text</th>\n",
              "      <th>target</th>\n",
              "    </tr>\n",
              "  </thead>\n",
              "  <tbody>\n",
              "    <tr>\n",
              "      <th>0</th>\n",
              "      <td>1</td>\n",
              "      <td>NaN</td>\n",
              "      <td>NaN</td>\n",
              "      <td>Our Deeds are the Reason of this #earthquake May ALLAH Forgive us all</td>\n",
              "      <td>1</td>\n",
              "    </tr>\n",
              "    <tr>\n",
              "      <th>1</th>\n",
              "      <td>4</td>\n",
              "      <td>NaN</td>\n",
              "      <td>NaN</td>\n",
              "      <td>Forest fire near La Ronge Sask. Canada</td>\n",
              "      <td>1</td>\n",
              "    </tr>\n",
              "    <tr>\n",
              "      <th>2</th>\n",
              "      <td>5</td>\n",
              "      <td>NaN</td>\n",
              "      <td>NaN</td>\n",
              "      <td>All residents asked to 'shelter in place' are being notified by officers. No other evacuation or...</td>\n",
              "      <td>1</td>\n",
              "    </tr>\n",
              "    <tr>\n",
              "      <th>3</th>\n",
              "      <td>6</td>\n",
              "      <td>NaN</td>\n",
              "      <td>NaN</td>\n",
              "      <td>13,000 people receive #wildfires evacuation orders in California</td>\n",
              "      <td>1</td>\n",
              "    </tr>\n",
              "    <tr>\n",
              "      <th>4</th>\n",
              "      <td>7</td>\n",
              "      <td>NaN</td>\n",
              "      <td>NaN</td>\n",
              "      <td>Just got sent this photo from Ruby #Alaska as smoke from #wildfires pours into a school</td>\n",
              "      <td>1</td>\n",
              "    </tr>\n",
              "  </tbody>\n",
              "</table>\n",
              "</div>"
            ],
            "text/plain": [
              "   id  ... target\n",
              "0   1  ...      1\n",
              "1   4  ...      1\n",
              "2   5  ...      1\n",
              "3   6  ...      1\n",
              "4   7  ...      1\n",
              "\n",
              "[5 rows x 5 columns]"
            ]
          },
          "metadata": {
            "tags": []
          },
          "execution_count": 2
        }
      ]
    },
    {
      "cell_type": "markdown",
      "metadata": {
        "id": "hSKOhiWF3D28",
        "colab_type": "text"
      },
      "source": [
        "## Analysis\n",
        "\n",
        "*   there are 7613 data points.\n",
        "*   **99.198739%** of the data has **keywords**.\n",
        "*   **66.73%** of the data has **location** points\n",
        "*   the top key word used to extract tweets is **fatalities**.\n",
        "*   data is ordered in terms of keyword used to extact the tweet from twitter.\n",
        "*   therefore shuffle the data to mix it.\n",
        "*   some of the data contains the # symbol which causes an error when the data is exported onto a numpy array.\n",
        "*   elements in the **text** column which does not have \" \" marks should not include ,\n",
        "*   data in the **location** column may also include , marks which will be read as a column delimeter by **np**."
      ]
    },
    {
      "cell_type": "markdown",
      "metadata": {
        "id": "aL3wczzc5dtX",
        "colab_type": "text"
      },
      "source": [
        ""
      ]
    },
    {
      "cell_type": "markdown",
      "metadata": {
        "id": "XnpG9wg1Kaqe",
        "colab_type": "text"
      },
      "source": [
        "### Decisions \n",
        "\n",
        "- the most important columns are the text and target columns\n",
        "- the text column contains information about the tweet\n",
        "- the keyword column can be discarded because the keyword appears within the tweet itself.\n",
        "- the location column can be discarded because only 66.73% have a location value associated with them. Droping 33% of the data is impractical\n",
        "- it is however worth exploring whether location of tweet has an impact on the real or fake status of a tweet\n",
        "\n",
        "- in some locations such as a city centre there cannot be a veld fire - so that is a consideration to be made\n"
      ]
    },
    {
      "cell_type": "markdown",
      "metadata": {
        "id": "DDIJGwXi5jRC",
        "colab_type": "text"
      },
      "source": [
        ""
      ]
    },
    {
      "cell_type": "markdown",
      "metadata": {
        "id": "KBgMp8HCJhxe",
        "colab_type": "text"
      },
      "source": [
        "### Data cleaning"
      ]
    },
    {
      "cell_type": "code",
      "metadata": {
        "id": "VIvSjP1PJfUQ",
        "colab_type": "code",
        "colab": {
          "base_uri": "https://localhost:8080/",
          "height": 487
        },
        "outputId": "4eba4859-a21f-4a64-8c50-6949ecf24924"
      },
      "source": [
        "nltk.download('stopwords')\n",
        "#### removing entries where location values are missing\n",
        "data_after_null_removal = data.copy()\n",
        "# data_after_null_removal = data_after_null_removal.dropna(subset=['location'])\n",
        "\n",
        "#punctutation removal\n",
        "def remove_punct(text):\n",
        "    text  = \"\".join([char for char in text if char not in string.punctuation])\n",
        "    text = re.sub('[0-9]+', '', text)\n",
        "    return text\n",
        "\n",
        "data_afer_punctuation_removal = data_after_null_removal.copy()\n",
        "data_afer_punctuation_removal['text'] = data_afer_punctuation_removal['text'].apply(lambda x: remove_punct(x))\n",
        "data_afer_punctuation_removal.head(10)\n",
        "\n",
        "# Tockenization\n",
        "\n",
        "def tokenization(text):\n",
        "    text = re.split('\\W+', text)\n",
        "    return text\n",
        "\n",
        "tockenized_data = data_afer_punctuation_removal.copy()\n",
        "tockenized_data['text'] = tockenized_data['text'].apply(lambda x: tokenization(x.lower()))\n",
        "\n",
        "# stopword removal \n",
        "data_after_stopword_removal = tockenized_data.copy()\n",
        "stopword = nltk.corpus.stopwords.words('english')\n",
        "\n",
        "def remove_stopwords(text):\n",
        "    text = [word for word in text if word not in stopword]\n",
        "    return text\n",
        "\n",
        "data_after_stopword_removal['text'] = data_after_stopword_removal['text'].apply(lambda x: remove_stopwords(x))\n",
        "\n",
        "# return to string\n",
        "data_without_tockenization = data_after_stopword_removal.copy()\n",
        "def listToString(s):     \n",
        "    # initialize an empty string \n",
        "    str1 = \" \" \n",
        "    # return string   \n",
        "    return (str1.join(s)) \n",
        "        \n",
        "data_without_tockenization['text'] = data_without_tockenization['text'].apply(lambda x: listToString(x))\n",
        "data_without_tockenization"
      ],
      "execution_count": 4,
      "outputs": [
        {
          "output_type": "stream",
          "text": [
            "[nltk_data] Downloading package stopwords to /root/nltk_data...\n",
            "[nltk_data]   Package stopwords is already up-to-date!\n"
          ],
          "name": "stdout"
        },
        {
          "output_type": "execute_result",
          "data": {
            "text/html": [
              "<div>\n",
              "<style scoped>\n",
              "    .dataframe tbody tr th:only-of-type {\n",
              "        vertical-align: middle;\n",
              "    }\n",
              "\n",
              "    .dataframe tbody tr th {\n",
              "        vertical-align: top;\n",
              "    }\n",
              "\n",
              "    .dataframe thead th {\n",
              "        text-align: right;\n",
              "    }\n",
              "</style>\n",
              "<table border=\"1\" class=\"dataframe\">\n",
              "  <thead>\n",
              "    <tr style=\"text-align: right;\">\n",
              "      <th></th>\n",
              "      <th>id</th>\n",
              "      <th>keyword</th>\n",
              "      <th>location</th>\n",
              "      <th>text</th>\n",
              "      <th>target</th>\n",
              "    </tr>\n",
              "  </thead>\n",
              "  <tbody>\n",
              "    <tr>\n",
              "      <th>0</th>\n",
              "      <td>1</td>\n",
              "      <td>NaN</td>\n",
              "      <td>NaN</td>\n",
              "      <td>deeds reason earthquake may allah forgive us</td>\n",
              "      <td>1</td>\n",
              "    </tr>\n",
              "    <tr>\n",
              "      <th>1</th>\n",
              "      <td>4</td>\n",
              "      <td>NaN</td>\n",
              "      <td>NaN</td>\n",
              "      <td>forest fire near la ronge sask canada</td>\n",
              "      <td>1</td>\n",
              "    </tr>\n",
              "    <tr>\n",
              "      <th>2</th>\n",
              "      <td>5</td>\n",
              "      <td>NaN</td>\n",
              "      <td>NaN</td>\n",
              "      <td>residents asked shelter place notified officers evacuation shelter place orders expected</td>\n",
              "      <td>1</td>\n",
              "    </tr>\n",
              "    <tr>\n",
              "      <th>3</th>\n",
              "      <td>6</td>\n",
              "      <td>NaN</td>\n",
              "      <td>NaN</td>\n",
              "      <td>people receive wildfires evacuation orders california</td>\n",
              "      <td>1</td>\n",
              "    </tr>\n",
              "    <tr>\n",
              "      <th>4</th>\n",
              "      <td>7</td>\n",
              "      <td>NaN</td>\n",
              "      <td>NaN</td>\n",
              "      <td>got sent photo ruby alaska smoke wildfires pours school</td>\n",
              "      <td>1</td>\n",
              "    </tr>\n",
              "    <tr>\n",
              "      <th>...</th>\n",
              "      <td>...</td>\n",
              "      <td>...</td>\n",
              "      <td>...</td>\n",
              "      <td>...</td>\n",
              "      <td>...</td>\n",
              "    </tr>\n",
              "    <tr>\n",
              "      <th>7608</th>\n",
              "      <td>10869</td>\n",
              "      <td>NaN</td>\n",
              "      <td>NaN</td>\n",
              "      <td>two giant cranes holding bridge collapse nearby homes httptcostfmbbzfb</td>\n",
              "      <td>1</td>\n",
              "    </tr>\n",
              "    <tr>\n",
              "      <th>7609</th>\n",
              "      <td>10870</td>\n",
              "      <td>NaN</td>\n",
              "      <td>NaN</td>\n",
              "      <td>ariaahrary thetawniest control wild fires california even northern part state troubling</td>\n",
              "      <td>1</td>\n",
              "    </tr>\n",
              "    <tr>\n",
              "      <th>7610</th>\n",
              "      <td>10871</td>\n",
              "      <td>NaN</td>\n",
              "      <td>NaN</td>\n",
              "      <td>utckm volcano hawaii httptcozdtoydebj</td>\n",
              "      <td>1</td>\n",
              "    </tr>\n",
              "    <tr>\n",
              "      <th>7611</th>\n",
              "      <td>10872</td>\n",
              "      <td>NaN</td>\n",
              "      <td>NaN</td>\n",
              "      <td>police investigating ebike collided car little portugal ebike rider suffered serious nonlife thr...</td>\n",
              "      <td>1</td>\n",
              "    </tr>\n",
              "    <tr>\n",
              "      <th>7612</th>\n",
              "      <td>10873</td>\n",
              "      <td>NaN</td>\n",
              "      <td>NaN</td>\n",
              "      <td>latest homes razed northern california wildfire abc news httptcoymyrskqd</td>\n",
              "      <td>1</td>\n",
              "    </tr>\n",
              "  </tbody>\n",
              "</table>\n",
              "<p>7613 rows × 5 columns</p>\n",
              "</div>"
            ],
            "text/plain": [
              "         id  ... target\n",
              "0         1  ...      1\n",
              "1         4  ...      1\n",
              "2         5  ...      1\n",
              "3         6  ...      1\n",
              "4         7  ...      1\n",
              "...     ...  ...    ...\n",
              "7608  10869  ...      1\n",
              "7609  10870  ...      1\n",
              "7610  10871  ...      1\n",
              "7611  10872  ...      1\n",
              "7612  10873  ...      1\n",
              "\n",
              "[7613 rows x 5 columns]"
            ]
          },
          "metadata": {
            "tags": []
          },
          "execution_count": 4
        }
      ]
    },
    {
      "cell_type": "code",
      "metadata": {
        "id": "bAJ5_I2wLS2w",
        "colab_type": "code",
        "colab": {}
      },
      "source": [
        "### train - test split\n",
        "training, testing = train_test_split(data_after_null_removal, test_size=0.1, random_state=42, shuffle=True)"
      ],
      "execution_count": 5,
      "outputs": []
    },
    {
      "cell_type": "code",
      "metadata": {
        "id": "lEbpKQ9l644I",
        "colab_type": "code",
        "colab": {}
      },
      "source": [
        "train = training.copy()\n",
        "test = testing.copy()\n",
        "# get the dependent and independent variables\n",
        "train_x = train['text']\n",
        "train_y = train['target']\n",
        "test_x = test['text']\n",
        "test_y = test['target']"
      ],
      "execution_count": 35,
      "outputs": []
    },
    {
      "cell_type": "markdown",
      "metadata": {
        "id": "A4JIjdRbvw5f",
        "colab_type": "text"
      },
      "source": [
        "## Preprocessing\n"
      ]
    },
    {
      "cell_type": "code",
      "metadata": {
        "colab_type": "code",
        "id": "nk88yuYwYBZg",
        "colab": {}
      },
      "source": [
        "train_x = np.array(train_x)\n",
        "train_y = np.array(train_y)\n",
        "\n",
        "\n",
        "# only work with the 30000 most popular words found in our dataset\n",
        "max_words = 30000\n",
        "\n",
        "# create a new Tokenizer\n",
        "tokenizer = Tokenizer(num_words=max_words)\n",
        "# feed our tweets to the Tokenizer\n",
        "tokenizer.fit_on_texts(train_x)\n",
        "\n",
        "# Tokenizers come with a convenient list of words and IDs\n",
        "dictionary = tokenizer.word_index\n",
        "\n",
        "# Saving the dictionary\n",
        "with open('dictionary.json', 'w') as dictionary_file:\n",
        "    json.dump(dictionary, dictionary_file)\n",
        "\n",
        "# Function to convert the text to its corresponding index\n",
        "def convert_text_to_index_array(text):\n",
        "    return [dictionary[word] for word in kpt.text_to_word_sequence(text)]\n",
        "\n",
        "allWordIndices = []\n",
        "# for each tweet, change each token to its ID in the Tokenizer's word_index\n",
        "for text in train_x:\n",
        "    wordIndices = convert_text_to_index_array(text)\n",
        "    allWordIndices.append(wordIndices)\n",
        "\n",
        "############################\n",
        "\n",
        "# Embedding Representation\n",
        "\n",
        "############################\n",
        "# Padding each text so that it has the same length\n",
        "text_length = 27\n",
        "embedded_text = pad_sequences(allWordIndices, padding='pre', maxlen=text_length)\n",
        "\n",
        "train_x = np.asarray(embedded_text)\n",
        "train_y = keras.utils.to_categorical(train_y, 2)"
      ],
      "execution_count": 36,
      "outputs": []
    },
    {
      "cell_type": "markdown",
      "metadata": {
        "id": "gewOSOgE0mWW",
        "colab_type": "text"
      },
      "source": [
        "## Model\n"
      ]
    },
    {
      "cell_type": "code",
      "metadata": {
        "id": "s5MKofOSEnI0",
        "colab_type": "code",
        "colab": {
          "base_uri": "https://localhost:8080/",
          "height": 496
        },
        "outputId": "ab4ca780-2eca-4194-ec8a-58fa4c4e3ee4"
      },
      "source": [
        "# Creating a model\n",
        "embedding_features = 16\n",
        "model = Sequential()\n",
        "model.add(Embedding(input_dim=max_words,output_dim=embedding_features, input_length=text_length))\n",
        "model.add(Flatten())\n",
        "model.add(Dense(512, activation='relu'))\n",
        "model.add(Dropout(0.2))\n",
        "model.add(Dense(2, activation='sigmoid'))\n",
        "\n",
        "model.compile(loss='categorical_crossentropy',\n",
        "    optimizer='adam',\n",
        "    metrics=['accuracy'])\n",
        "\n",
        "print(model.summary())\n",
        "\n",
        "history = model.fit(train_x, train_y,\n",
        "    batch_size=128,\n",
        "    epochs=10,\n",
        "    verbose=1,\n",
        "    validation_split=0.1,\n",
        "    shuffle=True,\n",
        "    callbacks=[EarlyStopping(monitor='val_loss', mode='min', verbose=1)],\n",
        ")\n",
        "\n",
        "model_json = model.to_json()\n",
        "with open('embeddingModel.json', 'w') as json_file:\n",
        "    json_file.write(model_json)\n",
        "\n",
        "model.save_weights('embeddingModel.h5')\n",
        "\n",
        "print('saved model!')"
      ],
      "execution_count": 76,
      "outputs": [
        {
          "output_type": "stream",
          "text": [
            "Model: \"sequential_12\"\n",
            "_________________________________________________________________\n",
            "Layer (type)                 Output Shape              Param #   \n",
            "=================================================================\n",
            "embedding_12 (Embedding)     (None, 27, 16)            480000    \n",
            "_________________________________________________________________\n",
            "flatten_11 (Flatten)         (None, 432)               0         \n",
            "_________________________________________________________________\n",
            "dense_24 (Dense)             (None, 512)               221696    \n",
            "_________________________________________________________________\n",
            "dropout_12 (Dropout)         (None, 512)               0         \n",
            "_________________________________________________________________\n",
            "dense_25 (Dense)             (None, 2)                 1026      \n",
            "=================================================================\n",
            "Total params: 702,722\n",
            "Trainable params: 702,722\n",
            "Non-trainable params: 0\n",
            "_________________________________________________________________\n",
            "None\n",
            "Epoch 1/10\n",
            "49/49 [==============================] - 1s 14ms/step - loss: 0.6398 - accuracy: 0.6354 - val_loss: 0.5806 - val_accuracy: 0.7041\n",
            "Epoch 2/10\n",
            "49/49 [==============================] - 1s 12ms/step - loss: 0.4152 - accuracy: 0.8298 - val_loss: 0.4832 - val_accuracy: 0.7901\n",
            "Epoch 3/10\n",
            "49/49 [==============================] - 1s 12ms/step - loss: 0.1647 - accuracy: 0.9421 - val_loss: 0.5718 - val_accuracy: 0.7828\n",
            "Epoch 00003: early stopping\n",
            "saved model!\n"
          ],
          "name": "stdout"
        }
      ]
    },
    {
      "cell_type": "code",
      "metadata": {
        "id": "ERhhWVV23Ehl",
        "colab_type": "code",
        "colab": {
          "base_uri": "https://localhost:8080/",
          "height": 530
        },
        "outputId": "5857e13e-5818-4b7c-a8eb-332bf4ad17df"
      },
      "source": [
        "print(history.history.keys())\n",
        "# summarize history for loss\n",
        "plt.figure(figsize=(8,8))\n",
        "plt.plot(history.history['loss'])\n",
        "plt.plot(history.history['val_loss'])\n",
        "plt.title('Training and Validation loss')\n",
        "plt.ylabel('loss')\n",
        "plt.xlabel('epoch')\n",
        "plt.legend(['train', 'validation'], loc='upper right')\n",
        "plt.show()"
      ],
      "execution_count": 77,
      "outputs": [
        {
          "output_type": "stream",
          "text": [
            "dict_keys(['loss', 'accuracy', 'val_loss', 'val_accuracy'])\n"
          ],
          "name": "stdout"
        },
        {
          "output_type": "display_data",
          "data": {
            "image/png": "[encoded data removed]",
            "text/plain": [
              "<Figure size 576x576 with 1 Axes>"
            ]
          },
          "metadata": {
            "tags": [],
            "needs_background": "light"
          }
        }
      ]
    },
    {
      "cell_type": "markdown",
      "metadata": {
        "id": "jdShkFnuJWnN",
        "colab_type": "text"
      },
      "source": [
        "## Testing Model\n"
      ]
    },
    {
      "cell_type": "code",
      "metadata": {
        "colab_type": "code",
        "id": "vP_vYBAlRKWm",
        "colab": {}
      },
      "source": [
        "labels = ['fake', 'real']\n",
        "\n",
        "# read in our saved dictionary\n",
        "with open('dictionary.json', 'r') as dictionary_file:\n",
        "    dictionary = json.load(dictionary_file)\n",
        "\n",
        "def convert_text_to_index_array(text):\n",
        "    words = kpt.text_to_word_sequence(text)\n",
        "    wordIndices = []\n",
        "    for word in words:\n",
        "        if word in dictionary:\n",
        "            wordIndices.append(dictionary[word])\n",
        "\n",
        "    return wordIndices\n",
        "\n",
        "# read in your saved model structure\n",
        "json_file = open('embeddingModel.json', 'r')\n",
        "loaded_model_json = json_file.read()\n",
        "json_file.close()\n",
        "# and create a model from that\n",
        "model = model_from_json(loaded_model_json)\n",
        "# and weight your nodes with your saved values\n",
        "model.load_weights('embeddingModel.h5')\n",
        "\n",
        "text_sequence = []\n",
        "\n",
        "f = open(\"output.txt\",\"w\")\n",
        "for index_of_interest, text1 in enumerate(test_x):\n",
        "    # format your input for the neural net\n",
        "    testArr = convert_text_to_index_array(text1)\n",
        "    text_sequence.append(testArr)\n",
        "    \n",
        "padded_sequence = pad_sequences(text_sequence, padding='pre', maxlen=text_length)\n",
        "predictions_before_formatting = model.predict(padded_sequence)\n",
        "\n",
        "predictions = []\n",
        "for num in predictions_before_formatting:\n",
        "  predictions.append(np.argmax(num))\n",
        "#end for"
      ],
      "execution_count": 79,
      "outputs": []
    },
    {
      "cell_type": "code",
      "metadata": {
        "id": "C89NxmEKz4O2",
        "colab_type": "code",
        "colab": {}
      },
      "source": [
        "def rounding(results):\n",
        "    '''Results needs to be rounded to 0 or 1 for fake or real, respectively'''\n",
        "    if results < 0.5:\n",
        "        return 0\n",
        "    else:\n",
        "        return 1\n",
        "    \n",
        "predictions_final = [rounding(x) for x in predictions]"
      ],
      "execution_count": 80,
      "outputs": []
    },
    {
      "cell_type": "code",
      "metadata": {
        "colab_type": "code",
        "id": "vM8gF95LRTU6",
        "colab": {
          "base_uri": "https://localhost:8080/",
          "height": 111
        },
        "outputId": "f4052d7e-b463-43e5-afde-eacfc2f9fdd0"
      },
      "source": [
        "predictions = np.array(predictions)\n",
        "test_y = np.array(test_y)\n",
        "confusion_matrix(test_y, predictions)\n",
        "\n",
        "tn, fp, fn, tp = confusion_matrix(test_y, predictions).ravel()\n",
        "precision = tp / (tp + fp)\n",
        "accuracy = (tp + tn) / (tn + fp +fn +tp)\n",
        "falsePositiveRate = fp / (fp + tn)\n",
        "recall = tp/(tp+fn)\n",
        "f1_score = 2 * ((recall*precision)/(recall+precision))\n",
        "\n",
        "# Intialise data to Dicts of series. \n",
        "d = {'Value' : pd.Series([accuracy, precision, falsePositiveRate, recall,f1_score], index =['Accuracy', 'Precision', 'FPR','Recall','F1'])} \n",
        "  \n",
        "# creates Dataframe. \n",
        "results = pd.DataFrame(d) \n",
        "  \n",
        "\n",
        "data = {'Negative':[tn, fn], 'Positive':[fp, tp]} \n",
        "  \n",
        "# Creates pandas DataFrame. \n",
        "df = pd.DataFrame(data, index =['Negative', 'Positive']) \n",
        "df"
      ],
      "execution_count": 81,
      "outputs": [
        {
          "output_type": "execute_result",
          "data": {
            "text/html": [
              "<div>\n",
              "<style scoped>\n",
              "    .dataframe tbody tr th:only-of-type {\n",
              "        vertical-align: middle;\n",
              "    }\n",
              "\n",
              "    .dataframe tbody tr th {\n",
              "        vertical-align: top;\n",
              "    }\n",
              "\n",
              "    .dataframe thead th {\n",
              "        text-align: right;\n",
              "    }\n",
              "</style>\n",
              "<table border=\"1\" class=\"dataframe\">\n",
              "  <thead>\n",
              "    <tr style=\"text-align: right;\">\n",
              "      <th></th>\n",
              "      <th>Negative</th>\n",
              "      <th>Positive</th>\n",
              "    </tr>\n",
              "  </thead>\n",
              "  <tbody>\n",
              "    <tr>\n",
              "      <th>Negative</th>\n",
              "      <td>394</td>\n",
              "      <td>32</td>\n",
              "    </tr>\n",
              "    <tr>\n",
              "      <th>Positive</th>\n",
              "      <td>159</td>\n",
              "      <td>177</td>\n",
              "    </tr>\n",
              "  </tbody>\n",
              "</table>\n",
              "</div>"
            ],
            "text/plain": [
              "          Negative  Positive\n",
              "Negative       394        32\n",
              "Positive       159       177"
            ]
          },
          "metadata": {
            "tags": []
          },
          "execution_count": 81
        }
      ]
    },
    {
      "cell_type": "code",
      "metadata": {
        "id": "Y11_vQYsRb9O",
        "colab_type": "code",
        "colab": {
          "base_uri": "https://localhost:8080/",
          "height": 204
        },
        "outputId": "3591f38d-9390-4a14-b360-c31527e7428a"
      },
      "source": [
        "results"
      ],
      "execution_count": 82,
      "outputs": [
        {
          "output_type": "execute_result",
          "data": {
            "text/html": [
              "<div>\n",
              "<style scoped>\n",
              "    .dataframe tbody tr th:only-of-type {\n",
              "        vertical-align: middle;\n",
              "    }\n",
              "\n",
              "    .dataframe tbody tr th {\n",
              "        vertical-align: top;\n",
              "    }\n",
              "\n",
              "    .dataframe thead th {\n",
              "        text-align: right;\n",
              "    }\n",
              "</style>\n",
              "<table border=\"1\" class=\"dataframe\">\n",
              "  <thead>\n",
              "    <tr style=\"text-align: right;\">\n",
              "      <th></th>\n",
              "      <th>Value</th>\n",
              "    </tr>\n",
              "  </thead>\n",
              "  <tbody>\n",
              "    <tr>\n",
              "      <th>Accuracy</th>\n",
              "      <td>0.749344</td>\n",
              "    </tr>\n",
              "    <tr>\n",
              "      <th>Precision</th>\n",
              "      <td>0.846890</td>\n",
              "    </tr>\n",
              "    <tr>\n",
              "      <th>FPR</th>\n",
              "      <td>0.075117</td>\n",
              "    </tr>\n",
              "    <tr>\n",
              "      <th>Recall</th>\n",
              "      <td>0.526786</td>\n",
              "    </tr>\n",
              "    <tr>\n",
              "      <th>F1</th>\n",
              "      <td>0.649541</td>\n",
              "    </tr>\n",
              "  </tbody>\n",
              "</table>\n",
              "</div>"
            ],
            "text/plain": [
              "              Value\n",
              "Accuracy   0.749344\n",
              "Precision  0.846890\n",
              "FPR        0.075117\n",
              "Recall     0.526786\n",
              "F1         0.649541"
            ]
          },
          "metadata": {
            "tags": []
          },
          "execution_count": 82
        }
      ]
    },
    {
      "cell_type": "markdown",
      "metadata": {
        "id": "Y-eWBpXRnJnP",
        "colab_type": "text"
      },
      "source": [
        "# Keras Embedding Layer with LSTM"
      ]
    },
    {
      "cell_type": "code",
      "metadata": {
        "id": "9xbrwhMfnW7l",
        "colab_type": "code",
        "colab": {
          "base_uri": "https://localhost:8080/",
          "height": 496
        },
        "outputId": "145aeddf-85ef-4558-f5a9-583fd632cd66"
      },
      "source": [
        "# Creating a model\n",
        "embedding_features = 16\n",
        "model = Sequential()\n",
        "model.add(Embedding(input_dim=max_words,output_dim=embedding_features, input_length=text_length))\n",
        "model.add(LSTM(512))\n",
        "model.add(Dense(512, activation='relu'))\n",
        "model.add(Dropout(0.2))\n",
        "model.add(Dense(2, activation='sigmoid'))\n",
        "\n",
        "model.compile(loss='categorical_crossentropy',\n",
        "    optimizer='adam',\n",
        "    metrics=['accuracy'])\n",
        "\n",
        "print(model.summary())\n",
        "\n",
        "history = model.fit(train_x, train_y,\n",
        "    batch_size=128,\n",
        "    epochs=10,\n",
        "    verbose=1,\n",
        "    validation_split=0.1,\n",
        "    shuffle=True,\n",
        "    callbacks=[EarlyStopping(monitor='val_loss', mode='min', verbose=1)],\n",
        ")\n",
        "\n",
        "model_json = model.to_json()\n",
        "with open('LSTM_EmbeddingModel.json', 'w') as json_file:\n",
        "    json_file.write(model_json)\n",
        "\n",
        "model.save_weights('LSTM_EmbeddingModel.h5')\n",
        "\n",
        "print('saved model!')"
      ],
      "execution_count": 83,
      "outputs": [
        {
          "output_type": "stream",
          "text": [
            "Model: \"sequential_13\"\n",
            "_________________________________________________________________\n",
            "Layer (type)                 Output Shape              Param #   \n",
            "=================================================================\n",
            "embedding_13 (Embedding)     (None, 27, 16)            480000    \n",
            "_________________________________________________________________\n",
            "lstm_1 (LSTM)                (None, 512)               1083392   \n",
            "_________________________________________________________________\n",
            "dense_26 (Dense)             (None, 512)               262656    \n",
            "_________________________________________________________________\n",
            "dropout_13 (Dropout)         (None, 512)               0         \n",
            "_________________________________________________________________\n",
            "dense_27 (Dense)             (None, 2)                 1026      \n",
            "=================================================================\n",
            "Total params: 1,827,074\n",
            "Trainable params: 1,827,074\n",
            "Non-trainable params: 0\n",
            "_________________________________________________________________\n",
            "None\n",
            "Epoch 1/10\n",
            "49/49 [==============================] - 32s 643ms/step - loss: 0.6874 - accuracy: 0.5788 - val_loss: 0.6788 - val_accuracy: 0.6195\n",
            "Epoch 2/10\n",
            "49/49 [==============================] - 31s 639ms/step - loss: 0.5297 - accuracy: 0.7612 - val_loss: 0.4692 - val_accuracy: 0.7843\n",
            "Epoch 3/10\n",
            "49/49 [==============================] - 31s 641ms/step - loss: 0.2775 - accuracy: 0.8949 - val_loss: 0.5175 - val_accuracy: 0.8017\n",
            "Epoch 00003: early stopping\n",
            "saved model!\n"
          ],
          "name": "stdout"
        }
      ]
    },
    {
      "cell_type": "code",
      "metadata": {
        "id": "vha5UMPy71sj",
        "colab_type": "code",
        "colab": {
          "base_uri": "https://localhost:8080/",
          "height": 530
        },
        "outputId": "349622ce-3ffd-4db8-fee2-37465830f9cc"
      },
      "source": [
        "print(history.history.keys())\n",
        "# summarize history for loss\n",
        "plt.figure(figsize=(8,8))\n",
        "plt.plot(history.history['loss'])\n",
        "plt.plot(history.history['val_loss'])\n",
        "plt.title('Training and Validation loss')\n",
        "plt.ylabel('loss')\n",
        "plt.xlabel('epoch')\n",
        "plt.legend(['train', 'validation'], loc='upper right')\n",
        "plt.show()"
      ],
      "execution_count": 84,
      "outputs": [
        {
          "output_type": "stream",
          "text": [
            "dict_keys(['loss', 'accuracy', 'val_loss', 'val_accuracy'])\n"
          ],
          "name": "stdout"
        },
        {
          "output_type": "display_data",
          "data": {
            "image/png": "[encoded data removed]",
            "text/plain": [
              "<Figure size 576x576 with 1 Axes>"
            ]
          },
          "metadata": {
            "tags": [],
            "needs_background": "light"
          }
        }
      ]
    },
    {
      "cell_type": "markdown",
      "metadata": {
        "colab_type": "text",
        "id": "neYY_mrC7_L7"
      },
      "source": [
        "## Testing Model\n"
      ]
    },
    {
      "cell_type": "code",
      "metadata": {
        "id": "EkokNhy_8K4z",
        "colab_type": "code",
        "colab": {}
      },
      "source": [
        "labels = ['fake', 'real']\n",
        "\n",
        "# read in our saved dictionary\n",
        "with open('dictionary.json', 'r') as dictionary_file:\n",
        "    dictionary = json.load(dictionary_file)\n",
        "\n",
        "def convert_text_to_index_array(text):\n",
        "    words = kpt.text_to_word_sequence(text)\n",
        "    wordIndices = []\n",
        "    for word in words:\n",
        "        if word in dictionary:\n",
        "            wordIndices.append(dictionary[word])\n",
        "\n",
        "    return wordIndices\n",
        "\n",
        "# read in your saved model structure\n",
        "json_file = open('model.json', 'r')\n",
        "loaded_model_json = json_file.read()\n",
        "json_file.close()\n",
        "# and create a model from that\n",
        "model = model_from_json(loaded_model_json)\n",
        "# and weight your nodes with your saved values\n",
        "model.load_weights('model.h5')\n",
        "\n",
        "text_sequence = []\n",
        "\n",
        "f = open(\"output.txt\",\"w\")\n",
        "for index_of_interest, text1 in enumerate(test_x):\n",
        "    # format your input for the neural net\n",
        "    testArr = convert_text_to_index_array(text1)\n",
        "    text_sequence.append(testArr)\n",
        "    \n",
        "padded_sequence = pad_sequences(text_sequence, padding='pre', maxlen=text_length)\n",
        "predictions_before_formatting = model.predict(padded_sequence)\n",
        "\n",
        "predictions = []\n",
        "for num in predictions_before_formatting:\n",
        "  predictions.append(np.argmax(num))\n",
        "#end for"
      ],
      "execution_count": 85,
      "outputs": []
    },
    {
      "cell_type": "code",
      "metadata": {
        "id": "aIGwo7Bw8Rlf",
        "colab_type": "code",
        "colab": {}
      },
      "source": [
        "def rounding(results):\n",
        "    '''Results needs to be rounded to 0 or 1 for fake or real, respectively'''\n",
        "    if results < 0.5:\n",
        "        return 0\n",
        "    else:\n",
        "        return 1\n",
        "    \n",
        "predictions_final = [rounding(x) for x in predictions]"
      ],
      "execution_count": 86,
      "outputs": []
    },
    {
      "cell_type": "code",
      "metadata": {
        "id": "eGRePPp_8eVY",
        "colab_type": "code",
        "colab": {
          "base_uri": "https://localhost:8080/",
          "height": 111
        },
        "outputId": "a8a6f669-0f54-4791-9283-9d1b0f5d7dc0"
      },
      "source": [
        "predictions = np.array(predictions)\n",
        "test_y = np.array(test_y)\n",
        "confusion_matrix(test_y, predictions)\n",
        "\n",
        "tn, fp, fn, tp = confusion_matrix(test_y, predictions).ravel()\n",
        "precision = tp / (tp + fp)\n",
        "accuracy = (tp + tn) / (tn + fp +fn +tp)\n",
        "falsePositiveRate = fp / (fp + tn)\n",
        "recall = tp/(tp+fn)\n",
        "f1_score = 2 * ((recall*precision)/(recall+precision))\n",
        "\n",
        "# Intialise data to Dicts of series. \n",
        "d = {'Value' : pd.Series([accuracy, precision, falsePositiveRate, recall,f1_score], index =['Accuracy', 'Precision', 'FPR','Recall','F1'])} \n",
        "  \n",
        "# creates Dataframe. \n",
        "results = pd.DataFrame(d) \n",
        "  \n",
        "\n",
        "data = {'Negative':[tn, fn], 'Positive':[fp, tp]} \n",
        "  \n",
        "# Creates pandas DataFrame. \n",
        "df = pd.DataFrame(data, index =['Negative', 'Positive']) \n",
        "df"
      ],
      "execution_count": 87,
      "outputs": [
        {
          "output_type": "execute_result",
          "data": {
            "text/html": [
              "<div>\n",
              "<style scoped>\n",
              "    .dataframe tbody tr th:only-of-type {\n",
              "        vertical-align: middle;\n",
              "    }\n",
              "\n",
              "    .dataframe tbody tr th {\n",
              "        vertical-align: top;\n",
              "    }\n",
              "\n",
              "    .dataframe thead th {\n",
              "        text-align: right;\n",
              "    }\n",
              "</style>\n",
              "<table border=\"1\" class=\"dataframe\">\n",
              "  <thead>\n",
              "    <tr style=\"text-align: right;\">\n",
              "      <th></th>\n",
              "      <th>Negative</th>\n",
              "      <th>Positive</th>\n",
              "    </tr>\n",
              "  </thead>\n",
              "  <tbody>\n",
              "    <tr>\n",
              "      <th>Negative</th>\n",
              "      <td>338</td>\n",
              "      <td>88</td>\n",
              "    </tr>\n",
              "    <tr>\n",
              "      <th>Positive</th>\n",
              "      <td>87</td>\n",
              "      <td>249</td>\n",
              "    </tr>\n",
              "  </tbody>\n",
              "</table>\n",
              "</div>"
            ],
            "text/plain": [
              "          Negative  Positive\n",
              "Negative       338        88\n",
              "Positive        87       249"
            ]
          },
          "metadata": {
            "tags": []
          },
          "execution_count": 87
        }
      ]
    },
    {
      "cell_type": "code",
      "metadata": {
        "id": "dAOLEtuX8grg",
        "colab_type": "code",
        "colab": {
          "base_uri": "https://localhost:8080/",
          "height": 204
        },
        "outputId": "c59001b7-ae1e-4863-9e9a-0fc9f83fde07"
      },
      "source": [
        "results"
      ],
      "execution_count": 88,
      "outputs": [
        {
          "output_type": "execute_result",
          "data": {
            "text/html": [
              "<div>\n",
              "<style scoped>\n",
              "    .dataframe tbody tr th:only-of-type {\n",
              "        vertical-align: middle;\n",
              "    }\n",
              "\n",
              "    .dataframe tbody tr th {\n",
              "        vertical-align: top;\n",
              "    }\n",
              "\n",
              "    .dataframe thead th {\n",
              "        text-align: right;\n",
              "    }\n",
              "</style>\n",
              "<table border=\"1\" class=\"dataframe\">\n",
              "  <thead>\n",
              "    <tr style=\"text-align: right;\">\n",
              "      <th></th>\n",
              "      <th>Value</th>\n",
              "    </tr>\n",
              "  </thead>\n",
              "  <tbody>\n",
              "    <tr>\n",
              "      <th>Accuracy</th>\n",
              "      <td>0.770341</td>\n",
              "    </tr>\n",
              "    <tr>\n",
              "      <th>Precision</th>\n",
              "      <td>0.738872</td>\n",
              "    </tr>\n",
              "    <tr>\n",
              "      <th>FPR</th>\n",
              "      <td>0.206573</td>\n",
              "    </tr>\n",
              "    <tr>\n",
              "      <th>Recall</th>\n",
              "      <td>0.741071</td>\n",
              "    </tr>\n",
              "    <tr>\n",
              "      <th>F1</th>\n",
              "      <td>0.739970</td>\n",
              "    </tr>\n",
              "  </tbody>\n",
              "</table>\n",
              "</div>"
            ],
            "text/plain": [
              "              Value\n",
              "Accuracy   0.770341\n",
              "Precision  0.738872\n",
              "FPR        0.206573\n",
              "Recall     0.741071\n",
              "F1         0.739970"
            ]
          },
          "metadata": {
            "tags": []
          },
          "execution_count": 88
        }
      ]
    }
  ]
}