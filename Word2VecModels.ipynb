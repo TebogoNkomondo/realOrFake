{
 "cells": [
  {
   "cell_type": "code",
   "execution_count": 4,
   "metadata": {
    "colab": {},
    "colab_type": "code",
    "id": "1uy6ZHv0ZqVu"
   },
   "outputs": [],
   "source": [
    "# !pip install -U -q PyDrive\n",
    "\n",
    "from pydrive.auth import GoogleAuth\n",
    "from pydrive.drive import GoogleDrive\n",
    "from google.colab import auth\n",
    "from oauth2client.client import GoogleCredentials"
   ]
  },
  {
   "cell_type": "code",
   "execution_count": 6,
   "metadata": {
    "colab": {},
    "colab_type": "code",
    "id": "yHeaq1ZmZ36p"
   },
   "outputs": [],
   "source": [
    "auth.authenticate_user()\n",
    "gauth = GoogleAuth()\n",
    "gauth.credentials = GoogleCredentials.get_application_default()\n",
    "drive = GoogleDrive(gauth)"
   ]
  },
  {
   "cell_type": "code",
   "execution_count": 7,
   "metadata": {
    "colab": {},
    "colab_type": "code",
    "id": "cfVeppjQZ4hi"
   },
   "outputs": [],
   "source": [
    "downloaded = drive.CreateFile({'id':'1-Hh3pdJlxhHWy42ZqXFDdjjBxe4vhoRg'})\n",
    "downloaded.GetContentFile('train.csv') \n",
    "\n",
    "dowm1 = drive.CreateFile({'id':'1uJ9jU4cLMl9LQwKt_N4TsIgBn9RbOgTD'})\n",
    "dowm1.GetContentFile('glove.twitter.27B.50d.txt') "
   ]
  },
  {
   "cell_type": "code",
   "execution_count": 3,
   "metadata": {
    "colab": {
     "base_uri": "https://localhost:8080/",
     "height": 71
    },
    "colab_type": "code",
    "id": "9MGWdyYLZ4e_",
    "outputId": "9d136c32-a4ee-4512-c295-05ef02e81078"
   },
   "outputs": [],
   "source": [
    "import json\n",
    "import keras\n",
    "import pandas as pd\n",
    "import keras.preprocessing.text as kpt\n",
    "from keras.preprocessing.text import Tokenizer\n",
    "import numpy as np\n",
    "from sklearn.model_selection import train_test_split\n",
    "\n",
    "from keras.models import Sequential\n",
    "from keras.layers import Dense, LSTM, SimpleRNN, Dropout, Activation, Embedding\n",
    "from datetime import datetime\n",
    "from tensorflow.keras.callbacks import EarlyStopping\n",
    "\n",
    "import matplotlib.pyplot as plt\n",
    "\n",
    "from sklearn.metrics import confusion_matrix\n",
    "\n",
    "import json\n",
    "from keras.models import model_from_json\n",
    "\n",
    "# Import libraries\n",
    "import seaborn as sns\n",
    "from sklearn.feature_extraction.text import CountVectorizer\n",
    "import nltk \n",
    "# nltk.download()\n",
    "import string\n",
    "import re\n",
    "%matplotlib inline\n",
    "pd.set_option('display.max_colwidth', 100)\n",
    "\n",
    "import string\n",
    "import re"
   ]
  },
  {
   "cell_type": "code",
   "execution_count": 4,
   "metadata": {
    "colab": {
     "base_uri": "https://localhost:8080/",
     "height": 204
    },
    "colab_type": "code",
    "id": "PQCJz0T5Z4cK",
    "outputId": "fff89374-d750-4bd1-e145-99beb0835ff3"
   },
   "outputs": [
    {
     "data": {
      "text/html": [
       "<div>\n",
       "<style scoped>\n",
       "    .dataframe tbody tr th:only-of-type {\n",
       "        vertical-align: middle;\n",
       "    }\n",
       "\n",
       "    .dataframe tbody tr th {\n",
       "        vertical-align: top;\n",
       "    }\n",
       "\n",
       "    .dataframe thead th {\n",
       "        text-align: right;\n",
       "    }\n",
       "</style>\n",
       "<table border=\"1\" class=\"dataframe\">\n",
       "  <thead>\n",
       "    <tr style=\"text-align: right;\">\n",
       "      <th></th>\n",
       "      <th>id</th>\n",
       "      <th>keyword</th>\n",
       "      <th>location</th>\n",
       "      <th>text</th>\n",
       "      <th>target</th>\n",
       "    </tr>\n",
       "  </thead>\n",
       "  <tbody>\n",
       "    <tr>\n",
       "      <th>0</th>\n",
       "      <td>1</td>\n",
       "      <td>NaN</td>\n",
       "      <td>NaN</td>\n",
       "      <td>Our Deeds are the Reason of this #earthquake May ALLAH Forgive us all</td>\n",
       "      <td>1</td>\n",
       "    </tr>\n",
       "    <tr>\n",
       "      <th>1</th>\n",
       "      <td>4</td>\n",
       "      <td>NaN</td>\n",
       "      <td>NaN</td>\n",
       "      <td>Forest fire near La Ronge Sask. Canada</td>\n",
       "      <td>1</td>\n",
       "    </tr>\n",
       "    <tr>\n",
       "      <th>2</th>\n",
       "      <td>5</td>\n",
       "      <td>NaN</td>\n",
       "      <td>NaN</td>\n",
       "      <td>All residents asked to 'shelter in place' are being notified by officers. No other evacuation or...</td>\n",
       "      <td>1</td>\n",
       "    </tr>\n",
       "    <tr>\n",
       "      <th>3</th>\n",
       "      <td>6</td>\n",
       "      <td>NaN</td>\n",
       "      <td>NaN</td>\n",
       "      <td>13,000 people receive #wildfires evacuation orders in California</td>\n",
       "      <td>1</td>\n",
       "    </tr>\n",
       "    <tr>\n",
       "      <th>4</th>\n",
       "      <td>7</td>\n",
       "      <td>NaN</td>\n",
       "      <td>NaN</td>\n",
       "      <td>Just got sent this photo from Ruby #Alaska as smoke from #wildfires pours into a school</td>\n",
       "      <td>1</td>\n",
       "    </tr>\n",
       "  </tbody>\n",
       "</table>\n",
       "</div>"
      ],
      "text/plain": [
       "   id keyword location  \\\n",
       "0   1     NaN      NaN   \n",
       "1   4     NaN      NaN   \n",
       "2   5     NaN      NaN   \n",
       "3   6     NaN      NaN   \n",
       "4   7     NaN      NaN   \n",
       "\n",
       "                                                                                                  text  \\\n",
       "0                                Our Deeds are the Reason of this #earthquake May ALLAH Forgive us all   \n",
       "1                                                               Forest fire near La Ronge Sask. Canada   \n",
       "2  All residents asked to 'shelter in place' are being notified by officers. No other evacuation or...   \n",
       "3                                    13,000 people receive #wildfires evacuation orders in California    \n",
       "4             Just got sent this photo from Ruby #Alaska as smoke from #wildfires pours into a school    \n",
       "\n",
       "   target  \n",
       "0       1  \n",
       "1       1  \n",
       "2       1  \n",
       "3       1  \n",
       "4       1  "
      ]
     },
     "execution_count": 4,
     "metadata": {},
     "output_type": "execute_result"
    }
   ],
   "source": [
    "data = pd.read_csv('./nlp-getting-started/train.csv', encoding='utf-8')\n",
    "data.head()"
   ]
  },
  {
   "cell_type": "code",
   "execution_count": 5,
   "metadata": {
    "colab": {
     "base_uri": "https://localhost:8080/",
     "height": 453
    },
    "colab_type": "code",
    "id": "Ytk-jYi6eHFr",
    "outputId": "651d5752-fbe4-4270-9d35-27872932cc19"
   },
   "outputs": [
    {
     "data": {
      "text/html": [
       "<div>\n",
       "<style scoped>\n",
       "    .dataframe tbody tr th:only-of-type {\n",
       "        vertical-align: middle;\n",
       "    }\n",
       "\n",
       "    .dataframe tbody tr th {\n",
       "        vertical-align: top;\n",
       "    }\n",
       "\n",
       "    .dataframe thead th {\n",
       "        text-align: right;\n",
       "    }\n",
       "</style>\n",
       "<table border=\"1\" class=\"dataframe\">\n",
       "  <thead>\n",
       "    <tr style=\"text-align: right;\">\n",
       "      <th></th>\n",
       "      <th>id</th>\n",
       "      <th>keyword</th>\n",
       "      <th>location</th>\n",
       "      <th>text</th>\n",
       "      <th>target</th>\n",
       "    </tr>\n",
       "  </thead>\n",
       "  <tbody>\n",
       "    <tr>\n",
       "      <th>0</th>\n",
       "      <td>1</td>\n",
       "      <td>NaN</td>\n",
       "      <td>NaN</td>\n",
       "      <td>deeds reason earthquake may allah forgive us</td>\n",
       "      <td>1</td>\n",
       "    </tr>\n",
       "    <tr>\n",
       "      <th>1</th>\n",
       "      <td>4</td>\n",
       "      <td>NaN</td>\n",
       "      <td>NaN</td>\n",
       "      <td>forest fire near la ronge sask canada</td>\n",
       "      <td>1</td>\n",
       "    </tr>\n",
       "    <tr>\n",
       "      <th>2</th>\n",
       "      <td>5</td>\n",
       "      <td>NaN</td>\n",
       "      <td>NaN</td>\n",
       "      <td>residents asked shelter place notified officers evacuation shelter place orders expected</td>\n",
       "      <td>1</td>\n",
       "    </tr>\n",
       "    <tr>\n",
       "      <th>3</th>\n",
       "      <td>6</td>\n",
       "      <td>NaN</td>\n",
       "      <td>NaN</td>\n",
       "      <td>people receive wildfires evacuation orders california</td>\n",
       "      <td>1</td>\n",
       "    </tr>\n",
       "    <tr>\n",
       "      <th>4</th>\n",
       "      <td>7</td>\n",
       "      <td>NaN</td>\n",
       "      <td>NaN</td>\n",
       "      <td>got sent photo ruby alaska smoke wildfires pours school</td>\n",
       "      <td>1</td>\n",
       "    </tr>\n",
       "    <tr>\n",
       "      <th>...</th>\n",
       "      <td>...</td>\n",
       "      <td>...</td>\n",
       "      <td>...</td>\n",
       "      <td>...</td>\n",
       "      <td>...</td>\n",
       "    </tr>\n",
       "    <tr>\n",
       "      <th>7608</th>\n",
       "      <td>10869</td>\n",
       "      <td>NaN</td>\n",
       "      <td>NaN</td>\n",
       "      <td>two giant cranes holding bridge collapse nearby homes</td>\n",
       "      <td>1</td>\n",
       "    </tr>\n",
       "    <tr>\n",
       "      <th>7609</th>\n",
       "      <td>10870</td>\n",
       "      <td>NaN</td>\n",
       "      <td>NaN</td>\n",
       "      <td>ariaahrary thetawniest control wild fires california even northern part state troubling</td>\n",
       "      <td>1</td>\n",
       "    </tr>\n",
       "    <tr>\n",
       "      <th>7610</th>\n",
       "      <td>10871</td>\n",
       "      <td>NaN</td>\n",
       "      <td>NaN</td>\n",
       "      <td>volcano hawaii</td>\n",
       "      <td>1</td>\n",
       "    </tr>\n",
       "    <tr>\n",
       "      <th>7611</th>\n",
       "      <td>10872</td>\n",
       "      <td>NaN</td>\n",
       "      <td>NaN</td>\n",
       "      <td>police investigating ebike collided car little portugal ebike rider suffered serious nonlife thr...</td>\n",
       "      <td>1</td>\n",
       "    </tr>\n",
       "    <tr>\n",
       "      <th>7612</th>\n",
       "      <td>10873</td>\n",
       "      <td>NaN</td>\n",
       "      <td>NaN</td>\n",
       "      <td>latest homes razed northern california wildfire abc news</td>\n",
       "      <td>1</td>\n",
       "    </tr>\n",
       "  </tbody>\n",
       "</table>\n",
       "<p>7613 rows × 5 columns</p>\n",
       "</div>"
      ],
      "text/plain": [
       "         id keyword location  \\\n",
       "0         1     NaN      NaN   \n",
       "1         4     NaN      NaN   \n",
       "2         5     NaN      NaN   \n",
       "3         6     NaN      NaN   \n",
       "4         7     NaN      NaN   \n",
       "...     ...     ...      ...   \n",
       "7608  10869     NaN      NaN   \n",
       "7609  10870     NaN      NaN   \n",
       "7610  10871     NaN      NaN   \n",
       "7611  10872     NaN      NaN   \n",
       "7612  10873     NaN      NaN   \n",
       "\n",
       "                                                                                                     text  \\\n",
       "0                                                            deeds reason earthquake may allah forgive us   \n",
       "1                                                                   forest fire near la ronge sask canada   \n",
       "2                residents asked shelter place notified officers evacuation shelter place orders expected   \n",
       "3                                                  people receive wildfires evacuation orders california    \n",
       "4                                                got sent photo ruby alaska smoke wildfires pours school    \n",
       "...                                                                                                   ...   \n",
       "7608                                               two giant cranes holding bridge collapse nearby homes    \n",
       "7609              ariaahrary thetawniest control wild fires california even northern part state troubling   \n",
       "7610                                                                                      volcano hawaii    \n",
       "7611  police investigating ebike collided car little portugal ebike rider suffered serious nonlife thr...   \n",
       "7612                                            latest homes razed northern california wildfire abc news    \n",
       "\n",
       "      target  \n",
       "0          1  \n",
       "1          1  \n",
       "2          1  \n",
       "3          1  \n",
       "4          1  \n",
       "...      ...  \n",
       "7608       1  \n",
       "7609       1  \n",
       "7610       1  \n",
       "7611       1  \n",
       "7612       1  \n",
       "\n",
       "[7613 rows x 5 columns]"
      ]
     },
     "execution_count": 5,
     "metadata": {},
     "output_type": "execute_result"
    }
   ],
   "source": [
    "#### removing entries where location values are missing\n",
    "data_after_null_removal = data.copy()\n",
    "\n",
    "#punctutation removal\n",
    "def clean_text(text):\n",
    "    '''Make text lowercase, remove text in square brackets,remove links,remove punctuation\n",
    "    and remove words containing numbers.'''\n",
    "    text = text.lower()\n",
    "    text = re.sub('\\[.*?\\]', '', text)\n",
    "    text = re.sub('https?://\\S+|www\\.\\S+', '', text)\n",
    "    text = re.sub('<.*?>+', '', text)\n",
    "    text = re.sub('[%s]' % re.escape(string.punctuation), '', text)\n",
    "    text = re.sub('\\n', '', text)\n",
    "    text = re.sub('\\w*\\d\\w*', '', text)\n",
    "    return text\n",
    "\n",
    "data_afer_punctuation_removal = data_after_null_removal.copy()\n",
    "data_afer_punctuation_removal['text'] = data_afer_punctuation_removal['text'].apply(lambda x: clean_text(x))\n",
    "data_afer_punctuation_removal.head(10)\n",
    "\n",
    "# Tockenization\n",
    "\n",
    "def tokenization(text):\n",
    "    text = re.split('\\W+', text)\n",
    "    return text\n",
    "\n",
    "tockenized_data = data_afer_punctuation_removal.copy()\n",
    "tockenized_data['text'] = tockenized_data['text'].apply(lambda x: tokenization(x.lower()))\n",
    "\n",
    "# stopword removal \n",
    "data_after_stopword_removal = tockenized_data.copy()\n",
    "stopword = nltk.corpus.stopwords.words('english')\n",
    "\n",
    "def remove_stopwords(text):\n",
    "    text = [word for word in text if word not in stopword]\n",
    "    return text\n",
    "\n",
    "data_after_stopword_removal['text'] = data_after_stopword_removal['text'].apply(lambda x: remove_stopwords(x))\n",
    "\n",
    "# return to string\n",
    "data_without_tockenization = data_after_stopword_removal.copy()\n",
    "def listToString(s):     \n",
    "    # initialize an empty string \n",
    "    str1 = \" \" \n",
    "    # return string   \n",
    "    return (str1.join(s)) \n",
    "        \n",
    "data_without_tockenization['text'] = data_without_tockenization['text'].apply(lambda x: listToString(x))\n",
    "data_without_tockenization"
   ]
  },
  {
   "cell_type": "code",
   "execution_count": 6,
   "metadata": {
    "colab": {},
    "colab_type": "code",
    "id": "xnuUrXb6eHLs"
   },
   "outputs": [],
   "source": [
    "df = data_without_tockenization.copy()\n",
    "\n",
    "sentences = df['text'].values\n",
    "y = df['target'].values"
   ]
  },
  {
   "cell_type": "code",
   "execution_count": 7,
   "metadata": {
    "colab": {},
    "colab_type": "code",
    "id": "aMs3Gwe_pk_m"
   },
   "outputs": [],
   "source": [
    "sentences_train, sentences_test, y_train, y_test = train_test_split(sentences, \n",
    "                                                                    y, test_size=0.1, random_state=42, shuffle=True)"
   ]
  },
  {
   "cell_type": "markdown",
   "metadata": {
    "colab_type": "text",
    "id": "orKZg5jLqh8Q"
   },
   "source": [
    "# Word2Vec"
   ]
  },
  {
   "cell_type": "code",
   "execution_count": 8,
   "metadata": {
    "colab": {},
    "colab_type": "code",
    "id": "tqL81HeeqWeb"
   },
   "outputs": [],
   "source": [
    "from gensim.models import Word2Vec, KeyedVectors"
   ]
  },
  {
   "cell_type": "code",
   "execution_count": 9,
   "metadata": {
    "colab": {},
    "colab_type": "code",
    "id": "kvpiyMIdqWbx"
   },
   "outputs": [],
   "source": [
    "data2 = data_without_tockenization.copy()"
   ]
  },
  {
   "cell_type": "code",
   "execution_count": 10,
   "metadata": {
    "colab": {},
    "colab_type": "code",
    "id": "Pz50RkQpwkB8"
   },
   "outputs": [],
   "source": [
    "df = data_without_tockenization.copy()\n",
    "\n",
    "sentences = df['text'].values\n",
    "y = df['target'].values"
   ]
  },
  {
   "cell_type": "code",
   "execution_count": 11,
   "metadata": {
    "colab": {},
    "colab_type": "code",
    "id": "XoksGckxqWZg"
   },
   "outputs": [],
   "source": [
    "sentences_train, sentences_test, y_train, y_test = train_test_split(sentences, \n",
    "                                                                    y, test_size=0.1, random_state=42, shuffle=True)"
   ]
  },
  {
   "cell_type": "code",
   "execution_count": 15,
   "metadata": {
    "colab": {},
    "colab_type": "code",
    "id": "rm5BCqKqqWWq"
   },
   "outputs": [],
   "source": [
    "from keras.preprocessing.text import Tokenizer\n",
    "from keras.preprocessing.sequence import pad_sequences\n",
    "\n",
    "tokenizer = Tokenizer(num_words=3000)\n",
    "\n",
    "X_train = tokenizer.texts_to_sequences(sentences_train)\n",
    "X_test  = tokenizer.texts_to_sequences(sentences_test)"
   ]
  },
  {
   "cell_type": "code",
   "execution_count": 16,
   "metadata": {
    "colab": {},
    "colab_type": "code",
    "id": "8VLlNjGMqWUj"
   },
   "outputs": [
    {
     "name": "stdout",
     "output_type": "stream",
     "text": [
      "23\n"
     ]
    }
   ],
   "source": [
    "max_length = max([len(s.split()) for s in sentences])\n",
    "X_train = pad_sequences(X_train, maxlen=max_length, padding='post')\n",
    "X_test =pad_sequences(X_test, maxlen=max_length, padding='post')\n",
    "print(max_length)"
   ]
  },
  {
   "cell_type": "code",
   "execution_count": 256,
   "metadata": {
    "colab": {},
    "colab_type": "code",
    "id": "agsDua0oqWR0"
   },
   "outputs": [],
   "source": [
    "\n",
    "def tokenization(text):\n",
    "    text = re.split('\\W+', text)\n",
    "    return text\n",
    "\n",
    "tockenized_data = data2.copy()\n",
    "tockenized_data['text'] = tockenized_data['text'].apply(lambda x: tokenization(x.lower()))\n",
    "\n",
    "tockenized_data.head()\n",
    "\n",
    "tweet_data = tockenized_data['text']\n",
    "tweet_data[1]\n",
    "\n",
    "tweet_data_array = []\n",
    "\n",
    "for arr in tweet_data:\n",
    "    tweet_data_array.append(arr)"
   ]
  },
  {
   "cell_type": "code",
   "execution_count": 257,
   "metadata": {
    "colab": {
     "base_uri": "https://localhost:8080/",
     "height": 88
    },
    "colab_type": "code",
    "id": "3uoMat24qWPu",
    "outputId": "49016218-fc15-4fd0-a89a-47f6c33e438c"
   },
   "outputs": [
    {
     "name": "stdout",
     "output_type": "stream",
     "text": [
      "Vocabulary size: 16435\n"
     ]
    },
    {
     "name": "stderr",
     "output_type": "stream",
     "text": [
      "/usr/local/lib/python3.6/dist-packages/smart_open/smart_open_lib.py:254: UserWarning: This function is deprecated, use smart_open.open instead. See the migration notes for details: https://github.com/RaRe-Technologies/smart_open/blob/master/README.rst#migrating-to-the-new-open-function\n",
      "  'See the migration notes for details: %s' % _MIGRATION_NOTES_URL\n"
     ]
    }
   ],
   "source": [
    "# train word2vec model\n",
    "model = Word2Vec(sentences=tweet_data_array, size=100, window=5, workers=3, min_count=1,\n",
    "                 negative=20, iter=100,seed=1000,sg=0)\n",
    "# summarize vocabulary size in model\n",
    "words = list(model.wv.vocab)\n",
    "print('Vocabulary size: %d' % len(words))\n",
    "    \n",
    "# save model in ASCII (word2vec) format\n",
    "filename = 'embedding_word2vec100iterCBOW.txt'\n",
    "model.wv.save_word2vec_format(filename, binary=False)"
   ]
  },
  {
   "cell_type": "code",
   "execution_count": 258,
   "metadata": {
    "colab": {},
    "colab_type": "code",
    "id": "3arbPVUCq8AI"
   },
   "outputs": [],
   "source": [
    "# load embedding as a dict\n",
    "def load_embedding(filename):\n",
    "# load embedding into memory, skip first line\n",
    "    file = open(filename,'r')\n",
    "    lines = file.readlines()[1:]\n",
    "    file.close()\n",
    "    # create a map of words to vectors\n",
    "    embedding = dict()\n",
    "    for line in lines:\n",
    "        parts = line.split()\n",
    "        # key is string word, value is numpy array for vector\n",
    "        embedding[parts[0]] = np.asarray(parts[1:], dtype='float32')\n",
    "    return embedding"
   ]
  },
  {
   "cell_type": "code",
   "execution_count": 259,
   "metadata": {
    "colab": {},
    "colab_type": "code",
    "id": "mUbfMAa_q8Ex"
   },
   "outputs": [],
   "source": [
    "# create a weight matrix for the Embedding layer from a loaded embedding\n",
    "def get_weight_matrix(embedding, vocab):\n",
    "    # total vocabulary size plus 0 for unknown words\n",
    "    vocab_size = len(vocab) + 1\n",
    "    # define weight matrix dimensions with all 0\n",
    "    weight_matrix = np.zeros((vocab_size, 100))\n",
    "    # step vocab, store vectors using the Tokenizer's integer mapping\n",
    "    for word, i in vocab.items():\n",
    "        weight_matrix[i] = embedding.get(word)\n",
    "    return weight_matrix"
   ]
  },
  {
   "cell_type": "code",
   "execution_count": 260,
   "metadata": {
    "colab": {},
    "colab_type": "code",
    "id": "JIo59yXrq8lf"
   },
   "outputs": [],
   "source": [
    "\n",
    "# load embedding from file\n",
    "raw_embedding = load_embedding('embedding_word2vec100iterCBOW.txt')\n",
    "# get vectors in the right order\n",
    "embedding_vectors = get_weight_matrix(raw_embedding, tokenizer.word_index)\n",
    "# create the embedding layer\n",
    "embedding_layer = Embedding(vocab_size, 100, weights=[embedding_vectors], input_length=max_length, trainable=False)"
   ]
  },
  {
   "cell_type": "code",
   "execution_count": 261,
   "metadata": {
    "colab": {
     "base_uri": "https://localhost:8080/",
     "height": 289
    },
    "colab_type": "code",
    "id": "qsC16ydCq8ii",
    "outputId": "7056d47c-7db4-448a-cbf1-f79d58bc9788"
   },
   "outputs": [
    {
     "name": "stdout",
     "output_type": "stream",
     "text": [
      "Model: \"sequential_20\"\n",
      "_________________________________________________________________\n",
      "Layer (type)                 Output Shape              Param #   \n",
      "=================================================================\n",
      "embedding_9 (Embedding)      (None, 23, 100)           1539700   \n",
      "_________________________________________________________________\n",
      "global_max_pooling1d_2 (Glob (None, 100)               0         \n",
      "_________________________________________________________________\n",
      "dense_22 (Dense)             (None, 10)                1010      \n",
      "_________________________________________________________________\n",
      "dense_23 (Dense)             (None, 1)                 11        \n",
      "=================================================================\n",
      "Total params: 1,540,721\n",
      "Trainable params: 1,021\n",
      "Non-trainable params: 1,539,700\n",
      "_________________________________________________________________\n"
     ]
    }
   ],
   "source": [
    "from keras import layers\n",
    "# define model\n",
    "model = Sequential()\n",
    "model.add(embedding_layer)\n",
    "model.add(layers.GlobalMaxPool1D())\n",
    "model.add(layers.Dense(10, activation='relu'))\n",
    "model.add(layers.Dense(1, activation='sigmoid'))\n",
    "model.compile(optimizer='adam',\n",
    "              loss='binary_crossentropy',\n",
    "              metrics=['accuracy','Precision','Recall'])\n",
    "model.summary()"
   ]
  },
  {
   "cell_type": "code",
   "execution_count": 262,
   "metadata": {
    "colab": {
     "base_uri": "https://localhost:8080/",
     "height": 258
    },
    "colab_type": "code",
    "id": "j6Qw5xG6q8eN",
    "outputId": "9a0a1cdb-4db1-401f-ae2c-04612d99758d"
   },
   "outputs": [
    {
     "name": "stdout",
     "output_type": "stream",
     "text": [
      "Epoch 1/50\n",
      "386/386 [==============================] - 1s 2ms/step - loss: 0.6202 - accuracy: 0.6759 - precision: 0.6322 - recall: 0.5754 - val_loss: 0.5821 - val_accuracy: 0.6924 - val_precision: 0.6566 - val_recall: 0.6414\n",
      "Epoch 2/50\n",
      "386/386 [==============================] - 1s 2ms/step - loss: 0.5461 - accuracy: 0.7312 - precision: 0.6973 - recall: 0.6541 - val_loss: 0.5614 - val_accuracy: 0.7201 - val_precision: 0.7000 - val_recall: 0.6447\n",
      "Epoch 3/50\n",
      "386/386 [==============================] - 1s 2ms/step - loss: 0.5278 - accuracy: 0.7491 - precision: 0.7175 - recall: 0.6796 - val_loss: 0.5567 - val_accuracy: 0.7157 - val_precision: 0.6708 - val_recall: 0.7039\n",
      "Epoch 4/50\n",
      "386/386 [==============================] - 1s 2ms/step - loss: 0.5160 - accuracy: 0.7554 - precision: 0.7282 - recall: 0.6811 - val_loss: 0.5463 - val_accuracy: 0.7318 - val_precision: 0.7143 - val_recall: 0.6579\n",
      "Epoch 5/50\n",
      "386/386 [==============================] - 1s 1ms/step - loss: 0.5092 - accuracy: 0.7599 - precision: 0.7310 - recall: 0.6921 - val_loss: 0.5401 - val_accuracy: 0.7362 - val_precision: 0.7128 - val_recall: 0.6776\n",
      "Epoch 6/50\n",
      "386/386 [==============================] - 1s 2ms/step - loss: 0.5017 - accuracy: 0.7646 - precision: 0.7387 - recall: 0.6940 - val_loss: 0.5456 - val_accuracy: 0.7318 - val_precision: 0.7256 - val_recall: 0.6349\n",
      "Epoch 00006: early stopping\n"
     ]
    }
   ],
   "source": [
    "history = model.fit(X_train, y_train,\n",
    "                    epochs=50,\n",
    "                    verbose=1,\n",
    "                    validation_split=0.1,\n",
    "                    batch_size=16,\n",
    "                   callbacks=[EarlyStopping(monitor='val_loss', mode='min', verbose=1)])"
   ]
  },
  {
   "cell_type": "code",
   "execution_count": 64,
   "metadata": {
    "colab": {
     "base_uri": "https://localhost:8080/",
     "height": 111
    },
    "colab_type": "code",
    "id": "9bfmjvIZq78x",
    "outputId": "af7f7a5a-0e4b-4ac2-a34a-82f0ce7e42bb"
   },
   "outputs": [
    {
     "data": {
      "text/html": [
       "<div>\n",
       "<style scoped>\n",
       "    .dataframe tbody tr th:only-of-type {\n",
       "        vertical-align: middle;\n",
       "    }\n",
       "\n",
       "    .dataframe tbody tr th {\n",
       "        vertical-align: top;\n",
       "    }\n",
       "\n",
       "    .dataframe thead th {\n",
       "        text-align: right;\n",
       "    }\n",
       "</style>\n",
       "<table border=\"1\" class=\"dataframe\">\n",
       "  <thead>\n",
       "    <tr style=\"text-align: right;\">\n",
       "      <th></th>\n",
       "      <th>Negative</th>\n",
       "      <th>Positive</th>\n",
       "    </tr>\n",
       "  </thead>\n",
       "  <tbody>\n",
       "    <tr>\n",
       "      <th>Negative</th>\n",
       "      <td>318</td>\n",
       "      <td>108</td>\n",
       "    </tr>\n",
       "    <tr>\n",
       "      <th>Positive</th>\n",
       "      <td>98</td>\n",
       "      <td>238</td>\n",
       "    </tr>\n",
       "  </tbody>\n",
       "</table>\n",
       "</div>"
      ],
      "text/plain": [
       "          Negative  Positive\n",
       "Negative       318       108\n",
       "Positive        98       238"
      ]
     },
     "execution_count": 64,
     "metadata": {
      "tags": []
     },
     "output_type": "execute_result"
    }
   ],
   "source": [
    "predictions = []\n",
    "Y_pred = model.predict_generator(X_test)\n",
    "y_pred = np.argmax(Y_pred, axis=1)\n",
    "\n",
    "def rounding(results):\n",
    "    '''Results needs to be rounded to 0 or 1 for fake or real, respectively'''\n",
    "    if results < 0.5:\n",
    "        return 0\n",
    "    else:\n",
    "        return 1\n",
    "    \n",
    "predictions_final = [rounding(x) for x in Y_pred]\n",
    "\n",
    "tn, fp, fn, tp = confusion_matrix(y_test, predictions_final).ravel()\n",
    "precision= tp / (tp + fp)\n",
    "accuracy = (tp + tn) / (tn + fp +fn+tp)\n",
    "falsePositiveRate = fp / (fp + tn)\n",
    "recall = tp/(tp+fn)\n",
    "f1= 2 * ((recall*precision)/(recall+precision))\n",
    "\n",
    "# Intialise data to Dicts of series. \n",
    "d = {'Value' : pd.Series([accuracy, precision, falsePositiveRate, recall,f1], index =['Accuracy', 'Precision', 'FPR','Recall','F1'])} \n",
    "  \n",
    "# creates Dataframe. \n",
    "results = pd.DataFrame(d) \n",
    "  \n",
    "\n",
    "data = {'Negative':[tn, fn], 'Positive':[fp, tp]} \n",
    "  \n",
    "# Creates pandas DataFrame. \n",
    "df= pd.DataFrame(data, index =['Negative', 'Positive']) \n",
    "df"
   ]
  },
  {
   "cell_type": "code",
   "execution_count": 65,
   "metadata": {
    "colab": {
     "base_uri": "https://localhost:8080/",
     "height": 204
    },
    "colab_type": "code",
    "id": "8DZE-c5Oq76I",
    "outputId": "4da82434-4753-4f96-b5a9-ab57f1f29772"
   },
   "outputs": [
    {
     "data": {
      "text/html": [
       "<div>\n",
       "<style scoped>\n",
       "    .dataframe tbody tr th:only-of-type {\n",
       "        vertical-align: middle;\n",
       "    }\n",
       "\n",
       "    .dataframe tbody tr th {\n",
       "        vertical-align: top;\n",
       "    }\n",
       "\n",
       "    .dataframe thead th {\n",
       "        text-align: right;\n",
       "    }\n",
       "</style>\n",
       "<table border=\"1\" class=\"dataframe\">\n",
       "  <thead>\n",
       "    <tr style=\"text-align: right;\">\n",
       "      <th></th>\n",
       "      <th>Value</th>\n",
       "    </tr>\n",
       "  </thead>\n",
       "  <tbody>\n",
       "    <tr>\n",
       "      <th>Accuracy</th>\n",
       "      <td>0.729659</td>\n",
       "    </tr>\n",
       "    <tr>\n",
       "      <th>Precision</th>\n",
       "      <td>0.687861</td>\n",
       "    </tr>\n",
       "    <tr>\n",
       "      <th>FPR</th>\n",
       "      <td>0.253521</td>\n",
       "    </tr>\n",
       "    <tr>\n",
       "      <th>Recall</th>\n",
       "      <td>0.708333</td>\n",
       "    </tr>\n",
       "    <tr>\n",
       "      <th>F1</th>\n",
       "      <td>0.697947</td>\n",
       "    </tr>\n",
       "  </tbody>\n",
       "</table>\n",
       "</div>"
      ],
      "text/plain": [
       "              Value\n",
       "Accuracy   0.729659\n",
       "Precision  0.687861\n",
       "FPR        0.253521\n",
       "Recall     0.708333\n",
       "F1         0.697947"
      ]
     },
     "execution_count": 65,
     "metadata": {
      "tags": []
     },
     "output_type": "execute_result"
    }
   ],
   "source": [
    "results"
   ]
  },
  {
   "cell_type": "markdown",
   "metadata": {
    "colab_type": "text",
    "id": "ck8rLg_2r6Rc"
   },
   "source": [
    "## SimpleRNN+word2vec"
   ]
  },
  {
   "cell_type": "code",
   "execution_count": 110,
   "metadata": {
    "colab": {},
    "colab_type": "code",
    "id": "Tm9RLxYxxr-s"
   },
   "outputs": [],
   "source": [
    "df = data_without_tockenization.copy()\n",
    "\n",
    "sentences = df['text'].values\n",
    "y = df['target'].values"
   ]
  },
  {
   "cell_type": "code",
   "execution_count": 111,
   "metadata": {
    "colab": {},
    "colab_type": "code",
    "id": "h5HRsONlxsHg"
   },
   "outputs": [],
   "source": [
    "sentences_train, sentences_test, y_train, y_test = train_test_split(sentences, \n",
    "                                                                    y, test_size=0.1, random_state=42, shuffle=True)"
   ]
  },
  {
   "cell_type": "code",
   "execution_count": 112,
   "metadata": {
    "colab": {},
    "colab_type": "code",
    "id": "h3i4wKTIx2Ym"
   },
   "outputs": [],
   "source": [
    "X_train = tokenizer.texts_to_sequences(sentences_train)\n",
    "X_test  = tokenizer.texts_to_sequences(sentences_test)"
   ]
  },
  {
   "cell_type": "code",
   "execution_count": 113,
   "metadata": {
    "colab": {},
    "colab_type": "code",
    "id": "-jBJVxHSyDJn"
   },
   "outputs": [],
   "source": [
    "max_length = max([len(s.split()) for s in sentences])\n",
    "X_train = pad_sequences(X_train, maxlen=max_length, padding='post')\n",
    "X_test =pad_sequences(X_test, maxlen=max_length, padding='post')"
   ]
  },
  {
   "cell_type": "code",
   "execution_count": 114,
   "metadata": {
    "colab": {},
    "colab_type": "code",
    "id": "rGn8YDekq73i"
   },
   "outputs": [],
   "source": [
    "\n",
    "# load embedding from file\n",
    "raw_embedding = load_embedding('embedding_word2vec100iterCBOW.txt')\n",
    "# get vectors in the right order\n",
    "embedding_vectors = get_weight_matrix(raw_embedding, tokenizer.word_index)\n",
    "# create the embedding layer\n",
    "embedding_layer = Embedding(vocab_size, 100, weights=[embedding_vectors], input_length=max_length, trainable=False)"
   ]
  },
  {
   "cell_type": "code",
   "execution_count": 115,
   "metadata": {
    "colab": {
     "base_uri": "https://localhost:8080/",
     "height": 357
    },
    "colab_type": "code",
    "id": "zsE0qZwZq70p",
    "outputId": "dd6ab09f-36cd-4913-bb48-fddf720b2956"
   },
   "outputs": [
    {
     "name": "stdout",
     "output_type": "stream",
     "text": [
      "Model: \"sequential_8\"\n",
      "_________________________________________________________________\n",
      "Layer (type)                 Output Shape              Param #   \n",
      "=================================================================\n",
      "embedding_8 (Embedding)      (None, 23, 100)           1539700   \n",
      "_________________________________________________________________\n",
      "spatial_dropout1d_6 (Spatial (None, 23, 100)           0         \n",
      "_________________________________________________________________\n",
      "simple_rnn_8 (SimpleRNN)     (None, 23, 128)           29312     \n",
      "_________________________________________________________________\n",
      "simple_rnn_9 (SimpleRNN)     (None, 64)                12352     \n",
      "_________________________________________________________________\n",
      "dropout_6 (Dropout)          (None, 64)                0         \n",
      "_________________________________________________________________\n",
      "dense_10 (Dense)             (None, 1)                 65        \n",
      "=================================================================\n",
      "Total params: 1,581,429\n",
      "Trainable params: 41,729\n",
      "Non-trainable params: 1,539,700\n",
      "_________________________________________________________________\n"
     ]
    }
   ],
   "source": [
    "from keras import layers\n",
    "from keras.layers import Dense,Dropout,Embedding,LSTM,SpatialDropout1D,Bidirectional\n",
    "\n",
    "model = Sequential()\n",
    "model.add(embedding_layer)\n",
    "model.add(SpatialDropout1D(0.25))\n",
    "model.add(SimpleRNN(128,return_sequences=True))\n",
    "model.add(SimpleRNN(64,return_sequences=False))\n",
    "model.add(Dropout(0.5))\n",
    "model.add(Dense(1, activation='sigmoid'))\n",
    "model.compile(loss='binary_crossentropy', optimizer='adam', metrics=['accuracy'])\n",
    "model.summary()"
   ]
  },
  {
   "cell_type": "code",
   "execution_count": 169,
   "metadata": {
    "colab": {
     "base_uri": "https://localhost:8080/",
     "height": 1000
    },
    "colab_type": "code",
    "id": "Vjhy3Pmrq7xM",
    "outputId": "d457928c-de1e-4634-8633-647692301158"
   },
   "outputs": [
    {
     "name": "stdout",
     "output_type": "stream",
     "text": [
      "Epoch 1/100\n",
      "193/193 [==============================] - 3s 17ms/step - loss: 0.4071 - accuracy: 0.8266 - val_loss: 0.5180 - val_accuracy: 0.7784\n",
      "Epoch 2/100\n",
      "193/193 [==============================] - 3s 16ms/step - loss: 0.4006 - accuracy: 0.8285 - val_loss: 0.5154 - val_accuracy: 0.7741\n",
      "Epoch 3/100\n",
      "193/193 [==============================] - 3s 17ms/step - loss: 0.4049 - accuracy: 0.8284 - val_loss: 0.5122 - val_accuracy: 0.7843\n",
      "Epoch 4/100\n",
      "193/193 [==============================] - 3s 16ms/step - loss: 0.4134 - accuracy: 0.8208 - val_loss: 0.5498 - val_accuracy: 0.7711\n",
      "Epoch 5/100\n",
      "193/193 [==============================] - 3s 16ms/step - loss: 0.4156 - accuracy: 0.8251 - val_loss: 0.5146 - val_accuracy: 0.7755\n",
      "Epoch 6/100\n",
      "193/193 [==============================] - 3s 17ms/step - loss: 0.4139 - accuracy: 0.8225 - val_loss: 0.5355 - val_accuracy: 0.7726\n",
      "Epoch 7/100\n",
      "193/193 [==============================] - 3s 16ms/step - loss: 0.4121 - accuracy: 0.8225 - val_loss: 0.5313 - val_accuracy: 0.7799\n",
      "Epoch 8/100\n",
      "193/193 [==============================] - 3s 17ms/step - loss: 0.4144 - accuracy: 0.8219 - val_loss: 0.5404 - val_accuracy: 0.7668\n",
      "Epoch 9/100\n",
      "193/193 [==============================] - 3s 16ms/step - loss: 0.4204 - accuracy: 0.8159 - val_loss: 0.5258 - val_accuracy: 0.7770\n",
      "Epoch 10/100\n",
      "193/193 [==============================] - 3s 16ms/step - loss: 0.4164 - accuracy: 0.8224 - val_loss: 0.5317 - val_accuracy: 0.7711\n",
      "Epoch 11/100\n",
      "193/193 [==============================] - 3s 16ms/step - loss: 0.4069 - accuracy: 0.8300 - val_loss: 0.5119 - val_accuracy: 0.7872\n",
      "Epoch 12/100\n",
      "193/193 [==============================] - 3s 16ms/step - loss: 0.4158 - accuracy: 0.8237 - val_loss: 0.5618 - val_accuracy: 0.7595\n",
      "Epoch 13/100\n",
      "193/193 [==============================] - 3s 16ms/step - loss: 0.4225 - accuracy: 0.8216 - val_loss: 0.5401 - val_accuracy: 0.7609\n",
      "Epoch 14/100\n",
      "193/193 [==============================] - 3s 17ms/step - loss: 0.4107 - accuracy: 0.8284 - val_loss: 0.5292 - val_accuracy: 0.7741\n",
      "Epoch 15/100\n",
      "193/193 [==============================] - 3s 16ms/step - loss: 0.4004 - accuracy: 0.8331 - val_loss: 0.5207 - val_accuracy: 0.7857\n",
      "Epoch 16/100\n",
      "193/193 [==============================] - 3s 16ms/step - loss: 0.3983 - accuracy: 0.8354 - val_loss: 0.5186 - val_accuracy: 0.7697\n",
      "Epoch 17/100\n",
      "193/193 [==============================] - 3s 16ms/step - loss: 0.4082 - accuracy: 0.8287 - val_loss: 0.5128 - val_accuracy: 0.7682\n",
      "Epoch 18/100\n",
      "193/193 [==============================] - 3s 16ms/step - loss: 0.4033 - accuracy: 0.8285 - val_loss: 0.5262 - val_accuracy: 0.7741\n",
      "Epoch 19/100\n",
      "193/193 [==============================] - 3s 16ms/step - loss: 0.4022 - accuracy: 0.8279 - val_loss: 0.5103 - val_accuracy: 0.7828\n",
      "Epoch 20/100\n",
      "193/193 [==============================] - 3s 16ms/step - loss: 0.4057 - accuracy: 0.8284 - val_loss: 0.5168 - val_accuracy: 0.7624\n",
      "Epoch 21/100\n",
      "193/193 [==============================] - 3s 16ms/step - loss: 0.4109 - accuracy: 0.8237 - val_loss: 0.5093 - val_accuracy: 0.7653\n",
      "Epoch 22/100\n",
      "193/193 [==============================] - 3s 16ms/step - loss: 0.4104 - accuracy: 0.8289 - val_loss: 0.5190 - val_accuracy: 0.7741\n",
      "Epoch 23/100\n",
      "193/193 [==============================] - 3s 16ms/step - loss: 0.4054 - accuracy: 0.8323 - val_loss: 0.5082 - val_accuracy: 0.7711\n",
      "Epoch 24/100\n",
      "193/193 [==============================] - 3s 16ms/step - loss: 0.4139 - accuracy: 0.8256 - val_loss: 0.5355 - val_accuracy: 0.7595\n",
      "Epoch 25/100\n",
      "193/193 [==============================] - 3s 16ms/step - loss: 0.4156 - accuracy: 0.8216 - val_loss: 0.5192 - val_accuracy: 0.7653\n",
      "Epoch 26/100\n",
      "193/193 [==============================] - 3s 16ms/step - loss: 0.4062 - accuracy: 0.8297 - val_loss: 0.5220 - val_accuracy: 0.7682\n",
      "Epoch 27/100\n",
      "193/193 [==============================] - 3s 16ms/step - loss: 0.4057 - accuracy: 0.8273 - val_loss: 0.5214 - val_accuracy: 0.7668\n",
      "Epoch 28/100\n",
      "193/193 [==============================] - 3s 16ms/step - loss: 0.4007 - accuracy: 0.8279 - val_loss: 0.5076 - val_accuracy: 0.7624\n",
      "Epoch 29/100\n",
      "193/193 [==============================] - 3s 16ms/step - loss: 0.4058 - accuracy: 0.8295 - val_loss: 0.5200 - val_accuracy: 0.7697\n",
      "Epoch 30/100\n",
      "193/193 [==============================] - 3s 16ms/step - loss: 0.4219 - accuracy: 0.8251 - val_loss: 0.5410 - val_accuracy: 0.7726\n",
      "Epoch 31/100\n",
      "193/193 [==============================] - 3s 16ms/step - loss: 0.4057 - accuracy: 0.8337 - val_loss: 0.5256 - val_accuracy: 0.7711\n",
      "Epoch 32/100\n",
      "193/193 [==============================] - 3s 17ms/step - loss: 0.4100 - accuracy: 0.8303 - val_loss: 0.5371 - val_accuracy: 0.7682\n",
      "Epoch 33/100\n",
      "193/193 [==============================] - 3s 16ms/step - loss: 0.4120 - accuracy: 0.8284 - val_loss: 0.5142 - val_accuracy: 0.7741\n",
      "Epoch 34/100\n",
      "193/193 [==============================] - 3s 16ms/step - loss: 0.4319 - accuracy: 0.8109 - val_loss: 0.5090 - val_accuracy: 0.7580\n",
      "Epoch 35/100\n",
      "193/193 [==============================] - 3s 16ms/step - loss: 0.4172 - accuracy: 0.8212 - val_loss: 0.5060 - val_accuracy: 0.7843\n",
      "Epoch 36/100\n",
      "193/193 [==============================] - 3s 16ms/step - loss: 0.4088 - accuracy: 0.8242 - val_loss: 0.5108 - val_accuracy: 0.7843\n",
      "Epoch 37/100\n",
      "193/193 [==============================] - 3s 17ms/step - loss: 0.4120 - accuracy: 0.8279 - val_loss: 0.5235 - val_accuracy: 0.7843\n",
      "Epoch 38/100\n",
      "193/193 [==============================] - 3s 17ms/step - loss: 0.4207 - accuracy: 0.8175 - val_loss: 0.5163 - val_accuracy: 0.7828\n",
      "Epoch 39/100\n",
      "193/193 [==============================] - 3s 16ms/step - loss: 0.4219 - accuracy: 0.8190 - val_loss: 0.5357 - val_accuracy: 0.7580\n",
      "Epoch 40/100\n",
      "193/193 [==============================] - 3s 16ms/step - loss: 0.4290 - accuracy: 0.8138 - val_loss: 0.5109 - val_accuracy: 0.7886\n",
      "Epoch 41/100\n",
      "193/193 [==============================] - 3s 16ms/step - loss: 0.4024 - accuracy: 0.8326 - val_loss: 0.5284 - val_accuracy: 0.7886\n",
      "Epoch 42/100\n",
      "193/193 [==============================] - 3s 16ms/step - loss: 0.4156 - accuracy: 0.8264 - val_loss: 0.5128 - val_accuracy: 0.7959\n",
      "Epoch 43/100\n",
      "193/193 [==============================] - 3s 16ms/step - loss: 0.4148 - accuracy: 0.8253 - val_loss: 0.4957 - val_accuracy: 0.7799\n",
      "Epoch 44/100\n",
      "193/193 [==============================] - 3s 17ms/step - loss: 0.4119 - accuracy: 0.8289 - val_loss: 0.5069 - val_accuracy: 0.7886\n",
      "Epoch 45/100\n",
      "193/193 [==============================] - 3s 17ms/step - loss: 0.4260 - accuracy: 0.8204 - val_loss: 0.5004 - val_accuracy: 0.7770\n",
      "Epoch 46/100\n",
      "193/193 [==============================] - 3s 16ms/step - loss: 0.4249 - accuracy: 0.8187 - val_loss: 0.5170 - val_accuracy: 0.7857\n",
      "Epoch 47/100\n",
      "193/193 [==============================] - 3s 16ms/step - loss: 0.4226 - accuracy: 0.8169 - val_loss: 0.5256 - val_accuracy: 0.7770\n",
      "Epoch 48/100\n",
      "193/193 [==============================] - 3s 16ms/step - loss: 0.4225 - accuracy: 0.8219 - val_loss: 0.5106 - val_accuracy: 0.7770\n",
      "Epoch 49/100\n",
      "193/193 [==============================] - 3s 16ms/step - loss: 0.4210 - accuracy: 0.8224 - val_loss: 0.5264 - val_accuracy: 0.7828\n",
      "Epoch 50/100\n",
      "193/193 [==============================] - 3s 16ms/step - loss: 0.4173 - accuracy: 0.8227 - val_loss: 0.5330 - val_accuracy: 0.7711\n",
      "Epoch 51/100\n",
      "193/193 [==============================] - 3s 16ms/step - loss: 0.4258 - accuracy: 0.8156 - val_loss: 0.5112 - val_accuracy: 0.7741\n",
      "Epoch 52/100\n",
      "193/193 [==============================] - 3s 16ms/step - loss: 0.4194 - accuracy: 0.8238 - val_loss: 0.5173 - val_accuracy: 0.7843\n",
      "Epoch 53/100\n",
      "193/193 [==============================] - 3s 16ms/step - loss: 0.4223 - accuracy: 0.8221 - val_loss: 0.5194 - val_accuracy: 0.7726\n",
      "Epoch 00053: early stopping\n"
     ]
    }
   ],
   "source": [
    "history = model.fit(X_train, y_train,\n",
    "                    epochs=100,\n",
    "                    verbose=1,\n",
    "                    validation_split=0.1,\n",
    "                    batch_size=32,\n",
    "                   callbacks=[EarlyStopping(monitor='val_loss', mode='min', verbose=1, patience=10)])"
   ]
  },
  {
   "cell_type": "code",
   "execution_count": 170,
   "metadata": {
    "colab": {
     "base_uri": "https://localhost:8080/",
     "height": 34
    },
    "colab_type": "code",
    "id": "rm1klyLCqWND",
    "outputId": "fdac4176-872a-4d72-b57d-8ef2ff3182da"
   },
   "outputs": [
    {
     "name": "stdout",
     "output_type": "stream",
     "text": [
      "saved model!\n"
     ]
    }
   ],
   "source": [
    "model_w2vRNN = model.to_json()\n",
    "with open('word2vec_RNN_model.json', 'w') as json_file:\n",
    "    json_file.write(model_w2vRNN)\n",
    "\n",
    "model.save_weights('word2vec_RNN_model.h5')\n",
    "\n",
    "print('saved model!')"
   ]
  },
  {
   "cell_type": "code",
   "execution_count": 171,
   "metadata": {
    "colab": {
     "base_uri": "https://localhost:8080/",
     "height": 534
    },
    "colab_type": "code",
    "id": "SC3C2boC4EjJ",
    "outputId": "3d827104-3c0b-4c99-f8a8-ae8bc46cf697"
   },
   "outputs": [
    {
     "name": "stdout",
     "output_type": "stream",
     "text": [
      "dict_keys(['loss', 'accuracy', 'val_loss', 'val_accuracy'])\n"
     ]
    },
    {
     "data": {
      "image/png": "[encoded data removed]",
      "text/plain": [
       "<Figure size 576x576 with 1 Axes>"
      ]
     },
     "metadata": {
      "tags": []
     },
     "output_type": "display_data"
    }
   ],
   "source": [
    "print(history.history.keys())\n",
    "# summarize history for loss\n",
    "plt.figure(figsize=(8,8))\n",
    "plt.plot(history.history['loss'])\n",
    "plt.plot(history.history['val_loss'])\n",
    "plt.title('Training and Validation loss')\n",
    "plt.ylabel('loss')\n",
    "plt.xlabel('epoch')\n",
    "plt.legend(['train', 'validation'], loc='upper right')\n",
    "plt.show()"
   ]
  },
  {
   "cell_type": "code",
   "execution_count": 172,
   "metadata": {
    "colab": {
     "base_uri": "https://localhost:8080/",
     "height": 111
    },
    "colab_type": "code",
    "id": "zHYlQlMKqWKc",
    "outputId": "aad590eb-2c3d-4221-ce77-2b4a412aee7b"
   },
   "outputs": [
    {
     "data": {
      "text/html": [
       "<div>\n",
       "<style scoped>\n",
       "    .dataframe tbody tr th:only-of-type {\n",
       "        vertical-align: middle;\n",
       "    }\n",
       "\n",
       "    .dataframe tbody tr th {\n",
       "        vertical-align: top;\n",
       "    }\n",
       "\n",
       "    .dataframe thead th {\n",
       "        text-align: right;\n",
       "    }\n",
       "</style>\n",
       "<table border=\"1\" class=\"dataframe\">\n",
       "  <thead>\n",
       "    <tr style=\"text-align: right;\">\n",
       "      <th></th>\n",
       "      <th>Negative</th>\n",
       "      <th>Positive</th>\n",
       "    </tr>\n",
       "  </thead>\n",
       "  <tbody>\n",
       "    <tr>\n",
       "      <th>Negative</th>\n",
       "      <td>366</td>\n",
       "      <td>60</td>\n",
       "    </tr>\n",
       "    <tr>\n",
       "      <th>Positive</th>\n",
       "      <td>120</td>\n",
       "      <td>216</td>\n",
       "    </tr>\n",
       "  </tbody>\n",
       "</table>\n",
       "</div>"
      ],
      "text/plain": [
       "          Negative  Positive\n",
       "Negative       366        60\n",
       "Positive       120       216"
      ]
     },
     "execution_count": 172,
     "metadata": {
      "tags": []
     },
     "output_type": "execute_result"
    }
   ],
   "source": [
    "predictions = []\n",
    "Y_pred = model.predict_generator(X_test)\n",
    "y_pred = np.argmax(Y_pred, axis=1)\n",
    "\n",
    "def rounding(results):\n",
    "    '''Results needs to be rounded to 0 or 1 for fake or real, respectively'''\n",
    "    if results < 0.5:\n",
    "        return 0\n",
    "    else:\n",
    "        return 1\n",
    "    \n",
    "predictions_final = [rounding(x) for x in Y_pred]\n",
    "\n",
    "tn, fp, fn, tp = confusion_matrix(y_test, predictions_final).ravel()\n",
    "precision= tp / (tp + fp)\n",
    "accuracy = (tp + tn) / (tn + fp +fn+tp)\n",
    "falsePositiveRate = fp / (fp + tn)\n",
    "recall = tp/(tp+fn)\n",
    "f1= 2 * ((recall*precision)/(recall+precision))\n",
    "\n",
    "# Intialise data to Dicts of series. \n",
    "d = {'Value' : pd.Series([accuracy, precision, falsePositiveRate, recall,f1], index =['Accuracy', 'Precision', 'FPR','Recall','F1'])} \n",
    "  \n",
    "# creates Dataframe. \n",
    "results = pd.DataFrame(d) \n",
    "  \n",
    "\n",
    "data = {'Negative':[tn, fn], 'Positive':[fp, tp]} \n",
    "  \n",
    "# Creates pandas DataFrame. \n",
    "df= pd.DataFrame(data, index =['Negative', 'Positive']) \n",
    "df"
   ]
  },
  {
   "cell_type": "code",
   "execution_count": 173,
   "metadata": {
    "colab": {
     "base_uri": "https://localhost:8080/",
     "height": 204
    },
    "colab_type": "code",
    "id": "vko7sisDpk1d",
    "outputId": "7463ab2d-a9a2-45aa-9d2f-0ae3a8d6a03a"
   },
   "outputs": [
    {
     "data": {
      "text/html": [
       "<div>\n",
       "<style scoped>\n",
       "    .dataframe tbody tr th:only-of-type {\n",
       "        vertical-align: middle;\n",
       "    }\n",
       "\n",
       "    .dataframe tbody tr th {\n",
       "        vertical-align: top;\n",
       "    }\n",
       "\n",
       "    .dataframe thead th {\n",
       "        text-align: right;\n",
       "    }\n",
       "</style>\n",
       "<table border=\"1\" class=\"dataframe\">\n",
       "  <thead>\n",
       "    <tr style=\"text-align: right;\">\n",
       "      <th></th>\n",
       "      <th>Value</th>\n",
       "    </tr>\n",
       "  </thead>\n",
       "  <tbody>\n",
       "    <tr>\n",
       "      <th>Accuracy</th>\n",
       "      <td>0.763780</td>\n",
       "    </tr>\n",
       "    <tr>\n",
       "      <th>Precision</th>\n",
       "      <td>0.782609</td>\n",
       "    </tr>\n",
       "    <tr>\n",
       "      <th>FPR</th>\n",
       "      <td>0.140845</td>\n",
       "    </tr>\n",
       "    <tr>\n",
       "      <th>Recall</th>\n",
       "      <td>0.642857</td>\n",
       "    </tr>\n",
       "    <tr>\n",
       "      <th>F1</th>\n",
       "      <td>0.705882</td>\n",
       "    </tr>\n",
       "  </tbody>\n",
       "</table>\n",
       "</div>"
      ],
      "text/plain": [
       "              Value\n",
       "Accuracy   0.763780\n",
       "Precision  0.782609\n",
       "FPR        0.140845\n",
       "Recall     0.642857\n",
       "F1         0.705882"
      ]
     },
     "execution_count": 173,
     "metadata": {
      "tags": []
     },
     "output_type": "execute_result"
    }
   ],
   "source": [
    "results"
   ]
  },
  {
   "cell_type": "code",
   "execution_count": 173,
   "metadata": {
    "colab": {},
    "colab_type": "code",
    "id": "qyCagKb_4Wv7"
   },
   "outputs": [],
   "source": []
  },
  {
   "cell_type": "markdown",
   "metadata": {
    "colab_type": "text",
    "id": "RKTJ4CZE4YCH"
   },
   "source": [
    "## LSTM + WORD2VEC"
   ]
  },
  {
   "cell_type": "code",
   "execution_count": 208,
   "metadata": {
    "colab": {
     "base_uri": "https://localhost:8080/",
     "height": 357
    },
    "colab_type": "code",
    "id": "4gts7kFa5InE",
    "outputId": "ab8b16e6-1717-46a5-f58a-d8c60fe841da"
   },
   "outputs": [
    {
     "name": "stdout",
     "output_type": "stream",
     "text": [
      "Model: \"sequential_15\"\n",
      "_________________________________________________________________\n",
      "Layer (type)                 Output Shape              Param #   \n",
      "=================================================================\n",
      "embedding_8 (Embedding)      (None, 23, 100)           1539700   \n",
      "_________________________________________________________________\n",
      "spatial_dropout1d_13 (Spatia (None, 23, 100)           0         \n",
      "_________________________________________________________________\n",
      "lstm_16 (LSTM)               (None, 23, 128)           117248    \n",
      "_________________________________________________________________\n",
      "lstm_17 (LSTM)               (None, 64)                49408     \n",
      "_________________________________________________________________\n",
      "dropout_13 (Dropout)         (None, 64)                0         \n",
      "_________________________________________________________________\n",
      "dense_17 (Dense)             (None, 1)                 65        \n",
      "=================================================================\n",
      "Total params: 1,706,421\n",
      "Trainable params: 166,721\n",
      "Non-trainable params: 1,539,700\n",
      "_________________________________________________________________\n"
     ]
    }
   ],
   "source": [
    "from keras import layers\n",
    "from keras.layers import Dense,Dropout,Embedding,LSTM,SpatialDropout1D,Bidirectional\n",
    "\n",
    "model = Sequential()\n",
    "model.add(embedding_layer)\n",
    "model.add(SpatialDropout1D(0.25))\n",
    "model.add(LSTM(128,return_sequences=True))\n",
    "model.add(LSTM(64,return_sequences=False))\n",
    "model.add(Dropout(0.5))\n",
    "model.add(Dense(1, activation='sigmoid'))\n",
    "model.compile(loss='binary_crossentropy', optimizer='adam', metrics=['accuracy'])\n",
    "model.summary()"
   ]
  },
  {
   "cell_type": "code",
   "execution_count": 209,
   "metadata": {
    "colab": {
     "base_uri": "https://localhost:8080/",
     "height": 292
    },
    "colab_type": "code",
    "id": "KTDcCWAq5Iza",
    "outputId": "4432c228-acdc-4944-ca12-c00b47930e94"
   },
   "outputs": [
    {
     "name": "stdout",
     "output_type": "stream",
     "text": [
      "Epoch 1/50\n",
      "97/97 [==============================] - 8s 82ms/step - loss: 0.5360 - accuracy: 0.7497 - val_loss: 0.4994 - val_accuracy: 0.7638\n",
      "Epoch 2/50\n",
      "97/97 [==============================] - 7s 75ms/step - loss: 0.4798 - accuracy: 0.7870 - val_loss: 0.4741 - val_accuracy: 0.7813\n",
      "Epoch 3/50\n",
      "97/97 [==============================] - 7s 74ms/step - loss: 0.4498 - accuracy: 0.7992 - val_loss: 0.4774 - val_accuracy: 0.7726\n",
      "Epoch 4/50\n",
      "97/97 [==============================] - 7s 75ms/step - loss: 0.4367 - accuracy: 0.8096 - val_loss: 0.4567 - val_accuracy: 0.7828\n",
      "Epoch 5/50\n",
      "97/97 [==============================] - 7s 75ms/step - loss: 0.4199 - accuracy: 0.8128 - val_loss: 0.4584 - val_accuracy: 0.7799\n",
      "Epoch 6/50\n",
      "97/97 [==============================] - 7s 75ms/step - loss: 0.4049 - accuracy: 0.8219 - val_loss: 0.4845 - val_accuracy: 0.7828\n",
      "Epoch 7/50\n",
      "97/97 [==============================] - 7s 75ms/step - loss: 0.3816 - accuracy: 0.8331 - val_loss: 0.4976 - val_accuracy: 0.7901\n",
      "Epoch 00007: early stopping\n"
     ]
    }
   ],
   "source": [
    "history = model.fit(X_train, y_train,\n",
    "                    epochs=50,\n",
    "                    verbose=1,\n",
    "                    validation_split=0.1,\n",
    "                    batch_size=64,\n",
    "                   callbacks=[EarlyStopping(monitor='val_loss', mode='min', verbose=1, patience=3)])"
   ]
  },
  {
   "cell_type": "code",
   "execution_count": 210,
   "metadata": {
    "colab": {
     "base_uri": "https://localhost:8080/",
     "height": 34
    },
    "colab_type": "code",
    "id": "9KGIBW_m5JF9",
    "outputId": "f9c32fc5-f1d3-49e9-bb6a-293787178ac9"
   },
   "outputs": [
    {
     "name": "stdout",
     "output_type": "stream",
     "text": [
      "saved model!\n"
     ]
    }
   ],
   "source": [
    "model_w2vRNN = model.to_json()\n",
    "with open('word2vec_LSTM_model.json', 'w') as json_file:\n",
    "    json_file.write(model_w2vRNN)\n",
    "\n",
    "model.save_weights('word2vec_LSTM_model.h5')\n",
    "\n",
    "print('saved model!')"
   ]
  },
  {
   "cell_type": "code",
   "execution_count": 211,
   "metadata": {
    "colab": {
     "base_uri": "https://localhost:8080/",
     "height": 111
    },
    "colab_type": "code",
    "id": "3IrCWwKd5JTT",
    "outputId": "356a4001-fcf8-416d-d05b-5ff54020c593"
   },
   "outputs": [
    {
     "data": {
      "text/html": [
       "<div>\n",
       "<style scoped>\n",
       "    .dataframe tbody tr th:only-of-type {\n",
       "        vertical-align: middle;\n",
       "    }\n",
       "\n",
       "    .dataframe tbody tr th {\n",
       "        vertical-align: top;\n",
       "    }\n",
       "\n",
       "    .dataframe thead th {\n",
       "        text-align: right;\n",
       "    }\n",
       "</style>\n",
       "<table border=\"1\" class=\"dataframe\">\n",
       "  <thead>\n",
       "    <tr style=\"text-align: right;\">\n",
       "      <th></th>\n",
       "      <th>Negative</th>\n",
       "      <th>Positive</th>\n",
       "    </tr>\n",
       "  </thead>\n",
       "  <tbody>\n",
       "    <tr>\n",
       "      <th>Negative</th>\n",
       "      <td>395</td>\n",
       "      <td>31</td>\n",
       "    </tr>\n",
       "    <tr>\n",
       "      <th>Positive</th>\n",
       "      <td>124</td>\n",
       "      <td>212</td>\n",
       "    </tr>\n",
       "  </tbody>\n",
       "</table>\n",
       "</div>"
      ],
      "text/plain": [
       "          Negative  Positive\n",
       "Negative       395        31\n",
       "Positive       124       212"
      ]
     },
     "execution_count": 211,
     "metadata": {
      "tags": []
     },
     "output_type": "execute_result"
    }
   ],
   "source": [
    "predictions = []\n",
    "Y_pred = model.predict_generator(X_test)\n",
    "y_pred = np.argmax(Y_pred, axis=1)\n",
    "\n",
    "def rounding(results):\n",
    "    '''Results needs to be rounded to 0 or 1 for fake or real, respectively'''\n",
    "    if results < 0.5:\n",
    "        return 0\n",
    "    else:\n",
    "        return 1\n",
    "    \n",
    "predictions_final = [rounding(x) for x in Y_pred]\n",
    "\n",
    "tn, fp, fn, tp = confusion_matrix(y_test, predictions_final).ravel()\n",
    "precision= tp / (tp + fp)\n",
    "accuracy = (tp + tn) / (tn + fp +fn+tp)\n",
    "falsePositiveRate = fp / (fp + tn)\n",
    "recall = tp/(tp+fn)\n",
    "f1= 2 * ((recall*precision)/(recall+precision))\n",
    "\n",
    "# Intialise data to Dicts of series. \n",
    "d = {'Value' : pd.Series([accuracy, precision, falsePositiveRate, recall,f1], index =['Accuracy', 'Precision', 'FPR','Recall','F1'])} \n",
    "  \n",
    "# creates Dataframe. \n",
    "results = pd.DataFrame(d) \n",
    "  \n",
    "\n",
    "data = {'Negative':[tn, fn], 'Positive':[fp, tp]} \n",
    "  \n",
    "# Creates pandas DataFrame. \n",
    "df= pd.DataFrame(data, index =['Negative', 'Positive']) \n",
    "df"
   ]
  },
  {
   "cell_type": "code",
   "execution_count": 212,
   "metadata": {
    "colab": {
     "base_uri": "https://localhost:8080/",
     "height": 204
    },
    "colab_type": "code",
    "id": "WHlEgr0j5JiA",
    "outputId": "13b88fae-3440-41d2-c763-88a53083b4bc"
   },
   "outputs": [
    {
     "data": {
      "text/html": [
       "<div>\n",
       "<style scoped>\n",
       "    .dataframe tbody tr th:only-of-type {\n",
       "        vertical-align: middle;\n",
       "    }\n",
       "\n",
       "    .dataframe tbody tr th {\n",
       "        vertical-align: top;\n",
       "    }\n",
       "\n",
       "    .dataframe thead th {\n",
       "        text-align: right;\n",
       "    }\n",
       "</style>\n",
       "<table border=\"1\" class=\"dataframe\">\n",
       "  <thead>\n",
       "    <tr style=\"text-align: right;\">\n",
       "      <th></th>\n",
       "      <th>Value</th>\n",
       "    </tr>\n",
       "  </thead>\n",
       "  <tbody>\n",
       "    <tr>\n",
       "      <th>Accuracy</th>\n",
       "      <td>0.796588</td>\n",
       "    </tr>\n",
       "    <tr>\n",
       "      <th>Precision</th>\n",
       "      <td>0.872428</td>\n",
       "    </tr>\n",
       "    <tr>\n",
       "      <th>FPR</th>\n",
       "      <td>0.072770</td>\n",
       "    </tr>\n",
       "    <tr>\n",
       "      <th>Recall</th>\n",
       "      <td>0.630952</td>\n",
       "    </tr>\n",
       "    <tr>\n",
       "      <th>F1</th>\n",
       "      <td>0.732297</td>\n",
       "    </tr>\n",
       "  </tbody>\n",
       "</table>\n",
       "</div>"
      ],
      "text/plain": [
       "              Value\n",
       "Accuracy   0.796588\n",
       "Precision  0.872428\n",
       "FPR        0.072770\n",
       "Recall     0.630952\n",
       "F1         0.732297"
      ]
     },
     "execution_count": 212,
     "metadata": {
      "tags": []
     },
     "output_type": "execute_result"
    }
   ],
   "source": [
    "results"
   ]
  },
  {
   "cell_type": "markdown",
   "metadata": {
    "colab_type": "text",
    "id": "5xTkGeNNBMuU"
   },
   "source": [
    "## Bi Directional LSTM + Word2Vec"
   ]
  },
  {
   "cell_type": "code",
   "execution_count": 245,
   "metadata": {
    "colab": {
     "base_uri": "https://localhost:8080/",
     "height": 357
    },
    "colab_type": "code",
    "id": "8iTsznxg5JsD",
    "outputId": "5979ef9b-5e52-485b-d31b-3e5eee116759"
   },
   "outputs": [
    {
     "name": "stdout",
     "output_type": "stream",
     "text": [
      "Model: \"sequential_19\"\n",
      "_________________________________________________________________\n",
      "Layer (type)                 Output Shape              Param #   \n",
      "=================================================================\n",
      "embedding_8 (Embedding)      (None, 23, 100)           1539700   \n",
      "_________________________________________________________________\n",
      "spatial_dropout1d_17 (Spatia (None, 23, 100)           0         \n",
      "_________________________________________________________________\n",
      "bidirectional_8 (Bidirection (None, 23, 256)           234496    \n",
      "_________________________________________________________________\n",
      "bidirectional_9 (Bidirection (None, 128)               164352    \n",
      "_________________________________________________________________\n",
      "dropout_17 (Dropout)         (None, 128)               0         \n",
      "_________________________________________________________________\n",
      "dense_21 (Dense)             (None, 1)                 129       \n",
      "=================================================================\n",
      "Total params: 1,938,677\n",
      "Trainable params: 398,977\n",
      "Non-trainable params: 1,539,700\n",
      "_________________________________________________________________\n"
     ]
    }
   ],
   "source": [
    "from keras import layers\n",
    "from keras.layers import Dense,Dropout,Embedding,LSTM,SpatialDropout1D,Bidirectional\n",
    "\n",
    "model = Sequential()\n",
    "model.add(embedding_layer)\n",
    "model.add(SpatialDropout1D(0.25))\n",
    "model.add(Bidirectional(LSTM(128,return_sequences=True)))\n",
    "model.add(Bidirectional(LSTM(64,return_sequences=False)))\n",
    "model.add(Dropout(0.5))\n",
    "model.add(Dense(1, activation='sigmoid'))\n",
    "model.compile(loss='binary_crossentropy', optimizer='adam', metrics=['accuracy'])\n",
    "model.summary()"
   ]
  },
  {
   "cell_type": "code",
   "execution_count": 246,
   "metadata": {
    "colab": {
     "base_uri": "https://localhost:8080/",
     "height": 326
    },
    "colab_type": "code",
    "id": "PjFZJKlB5JbO",
    "outputId": "dd51942e-62ca-49aa-b8fd-854b71101ebb"
   },
   "outputs": [
    {
     "name": "stdout",
     "output_type": "stream",
     "text": [
      "Epoch 1/50\n",
      "193/193 [==============================] - 20s 103ms/step - loss: 0.5118 - accuracy: 0.7629 - val_loss: 0.4812 - val_accuracy: 0.7843\n",
      "Epoch 2/50\n",
      "193/193 [==============================] - 18s 95ms/step - loss: 0.4593 - accuracy: 0.7851 - val_loss: 0.4736 - val_accuracy: 0.7770\n",
      "Epoch 3/50\n",
      "193/193 [==============================] - 18s 95ms/step - loss: 0.4303 - accuracy: 0.8125 - val_loss: 0.4820 - val_accuracy: 0.7857\n",
      "Epoch 4/50\n",
      "193/193 [==============================] - 19s 96ms/step - loss: 0.4078 - accuracy: 0.8250 - val_loss: 0.4692 - val_accuracy: 0.7799\n",
      "Epoch 5/50\n",
      "193/193 [==============================] - 18s 96ms/step - loss: 0.3883 - accuracy: 0.8298 - val_loss: 0.4662 - val_accuracy: 0.7872\n",
      "Epoch 6/50\n",
      "193/193 [==============================] - 18s 96ms/step - loss: 0.3630 - accuracy: 0.8480 - val_loss: 0.4913 - val_accuracy: 0.7755\n",
      "Epoch 7/50\n",
      "193/193 [==============================] - 19s 96ms/step - loss: 0.3415 - accuracy: 0.8547 - val_loss: 0.4882 - val_accuracy: 0.7915\n",
      "Epoch 8/50\n",
      "193/193 [==============================] - 19s 96ms/step - loss: 0.3203 - accuracy: 0.8633 - val_loss: 0.5144 - val_accuracy: 0.7828\n",
      "Epoch 00008: early stopping\n"
     ]
    }
   ],
   "source": [
    "history = model.fit(X_train, y_train,\n",
    "                    epochs=50,\n",
    "                    verbose=1,\n",
    "                    validation_split=0.1,\n",
    "                    batch_size=32,\n",
    "                   callbacks=[EarlyStopping(monitor='val_loss', mode='min', verbose=1, patience=3)])"
   ]
  },
  {
   "cell_type": "code",
   "execution_count": 247,
   "metadata": {
    "colab": {
     "base_uri": "https://localhost:8080/",
     "height": 34
    },
    "colab_type": "code",
    "id": "5ytJIeE_5JO6",
    "outputId": "d4eda5ca-49d6-4e49-99f1-63d8cc855383"
   },
   "outputs": [
    {
     "name": "stdout",
     "output_type": "stream",
     "text": [
      "saved model!\n"
     ]
    }
   ],
   "source": [
    "model_w2vRNN = model.to_json()\n",
    "with open('word2vec_BLSTM_model.json', 'w') as json_file:\n",
    "    json_file.write(model_w2vRNN)\n",
    "\n",
    "model.save_weights('word2vec_BLSTM_model.h5')\n",
    "\n",
    "print('saved model!')"
   ]
  },
  {
   "cell_type": "code",
   "execution_count": 248,
   "metadata": {
    "colab": {
     "base_uri": "https://localhost:8080/",
     "height": 111
    },
    "colab_type": "code",
    "id": "kihnB_vm5I-t",
    "outputId": "28b6933c-49d0-4c6f-928d-378f663adf59"
   },
   "outputs": [
    {
     "data": {
      "text/html": [
       "<div>\n",
       "<style scoped>\n",
       "    .dataframe tbody tr th:only-of-type {\n",
       "        vertical-align: middle;\n",
       "    }\n",
       "\n",
       "    .dataframe tbody tr th {\n",
       "        vertical-align: top;\n",
       "    }\n",
       "\n",
       "    .dataframe thead th {\n",
       "        text-align: right;\n",
       "    }\n",
       "</style>\n",
       "<table border=\"1\" class=\"dataframe\">\n",
       "  <thead>\n",
       "    <tr style=\"text-align: right;\">\n",
       "      <th></th>\n",
       "      <th>Negative</th>\n",
       "      <th>Positive</th>\n",
       "    </tr>\n",
       "  </thead>\n",
       "  <tbody>\n",
       "    <tr>\n",
       "      <th>Negative</th>\n",
       "      <td>371</td>\n",
       "      <td>55</td>\n",
       "    </tr>\n",
       "    <tr>\n",
       "      <th>Positive</th>\n",
       "      <td>116</td>\n",
       "      <td>220</td>\n",
       "    </tr>\n",
       "  </tbody>\n",
       "</table>\n",
       "</div>"
      ],
      "text/plain": [
       "          Negative  Positive\n",
       "Negative       371        55\n",
       "Positive       116       220"
      ]
     },
     "execution_count": 248,
     "metadata": {
      "tags": []
     },
     "output_type": "execute_result"
    }
   ],
   "source": [
    "predictions = []\n",
    "Y_pred = model.predict_generator(X_test)\n",
    "y_pred = np.argmax(Y_pred, axis=1)\n",
    "\n",
    "def rounding(results):\n",
    "    '''Results needs to be rounded to 0 or 1 for fake or real, respectively'''\n",
    "    if results < 0.5:\n",
    "        return 0\n",
    "    else:\n",
    "        return 1\n",
    "    \n",
    "predictions_final = [rounding(x) for x in Y_pred]\n",
    "\n",
    "tn, fp, fn, tp = confusion_matrix(y_test, predictions_final).ravel()\n",
    "precision= tp / (tp + fp)\n",
    "accuracy = (tp + tn) / (tn + fp +fn+tp)\n",
    "falsePositiveRate = fp / (fp + tn)\n",
    "recall = tp/(tp+fn)\n",
    "f1= 2 * ((recall*precision)/(recall+precision))\n",
    "\n",
    "# Intialise data to Dicts of series. \n",
    "d = {'Value' : pd.Series([accuracy, precision, falsePositiveRate, recall,f1], index =['Accuracy', 'Precision', 'FPR','Recall','F1'])} \n",
    "  \n",
    "# creates Dataframe. \n",
    "results = pd.DataFrame(d) \n",
    "  \n",
    "\n",
    "data = {'Negative':[tn, fn], 'Positive':[fp, tp]} \n",
    "  \n",
    "# Creates pandas DataFrame. \n",
    "df= pd.DataFrame(data, index =['Negative', 'Positive']) \n",
    "df"
   ]
  },
  {
   "cell_type": "code",
   "execution_count": 249,
   "metadata": {
    "colab": {
     "base_uri": "https://localhost:8080/",
     "height": 204
    },
    "colab_type": "code",
    "id": "yuO7hdVM5I53",
    "outputId": "d480ce8e-98de-48d5-b17f-eeb89a04f002"
   },
   "outputs": [
    {
     "data": {
      "text/html": [
       "<div>\n",
       "<style scoped>\n",
       "    .dataframe tbody tr th:only-of-type {\n",
       "        vertical-align: middle;\n",
       "    }\n",
       "\n",
       "    .dataframe tbody tr th {\n",
       "        vertical-align: top;\n",
       "    }\n",
       "\n",
       "    .dataframe thead th {\n",
       "        text-align: right;\n",
       "    }\n",
       "</style>\n",
       "<table border=\"1\" class=\"dataframe\">\n",
       "  <thead>\n",
       "    <tr style=\"text-align: right;\">\n",
       "      <th></th>\n",
       "      <th>Value</th>\n",
       "    </tr>\n",
       "  </thead>\n",
       "  <tbody>\n",
       "    <tr>\n",
       "      <th>Accuracy</th>\n",
       "      <td>0.775591</td>\n",
       "    </tr>\n",
       "    <tr>\n",
       "      <th>Precision</th>\n",
       "      <td>0.800000</td>\n",
       "    </tr>\n",
       "    <tr>\n",
       "      <th>FPR</th>\n",
       "      <td>0.129108</td>\n",
       "    </tr>\n",
       "    <tr>\n",
       "      <th>Recall</th>\n",
       "      <td>0.654762</td>\n",
       "    </tr>\n",
       "    <tr>\n",
       "      <th>F1</th>\n",
       "      <td>0.720131</td>\n",
       "    </tr>\n",
       "  </tbody>\n",
       "</table>\n",
       "</div>"
      ],
      "text/plain": [
       "              Value\n",
       "Accuracy   0.775591\n",
       "Precision  0.800000\n",
       "FPR        0.129108\n",
       "Recall     0.654762\n",
       "F1         0.720131"
      ]
     },
     "execution_count": 249,
     "metadata": {
      "tags": []
     },
     "output_type": "execute_result"
    }
   ],
   "source": [
    "results"
   ]
  }
 ],
 "metadata": {
  "colab": {
   "collapsed_sections": [],
   "name": "Word2VecModels.ipynb",
   "provenance": []
  },
  "kernelspec": {
   "display_name": "py3-TF2.0",
   "language": "python",
   "name": "py3-tf2.0"
  },
  "language_info": {
   "codemirror_mode": {
    "name": "ipython",
    "version": 3
   },
   "file_extension": ".py",
   "mimetype": "text/x-python",
   "name": "python",
   "nbconvert_exporter": "python",
   "pygments_lexer": "ipython3",
   "version": "3.8.3"
  }
 },
 "nbformat": 4,
 "nbformat_minor": 1
}
