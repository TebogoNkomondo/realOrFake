{
 "cells": [
  {
   "cell_type": "markdown",
   "metadata": {},
   "source": [
    "# Project Update"
   ]
  },
  {
   "cell_type": "code",
   "execution_count": 2,
   "metadata": {},
   "outputs": [],
   "source": [
    "import json\n",
    "import keras\n",
    "import pandas as pd\n",
    "import keras.preprocessing.text as kpt\n",
    "from keras.preprocessing.text import Tokenizer\n",
    "import numpy as np\n",
    "from sklearn.model_selection import train_test_split\n",
    "\n",
    "from keras.models import Sequential\n",
    "from keras.layers import Dense, LSTM, SimpleRNN, Dropout, Activation, Embedding\n",
    "from datetime import datetime\n",
    "from tensorflow.keras.callbacks import EarlyStopping\n",
    "\n",
    "import matplotlib.pyplot as plt\n",
    "\n",
    "from sklearn.metrics import confusion_matrix\n",
    "\n",
    "import json\n",
    "from keras.models import model_from_json\n",
    "\n",
    "# Import libraries\n",
    "import seaborn as sns\n",
    "from sklearn.feature_extraction.text import CountVectorizer\n",
    "import nltk \n",
    "# nltk.download()\n",
    "import string\n",
    "import re\n",
    "%matplotlib inline\n",
    "pd.set_option('display.max_colwidth', 100)"
   ]
  },
  {
   "cell_type": "markdown",
   "metadata": {},
   "source": [
    "#  Exploring Data"
   ]
  },
  {
   "cell_type": "code",
   "execution_count": 4,
   "metadata": {},
   "outputs": [
    {
     "data": {
      "text/html": [
       "<div>\n",
       "<style scoped>\n",
       "    .dataframe tbody tr th:only-of-type {\n",
       "        vertical-align: middle;\n",
       "    }\n",
       "\n",
       "    .dataframe tbody tr th {\n",
       "        vertical-align: top;\n",
       "    }\n",
       "\n",
       "    .dataframe thead th {\n",
       "        text-align: right;\n",
       "    }\n",
       "</style>\n",
       "<table border=\"1\" class=\"dataframe\">\n",
       "  <thead>\n",
       "    <tr style=\"text-align: right;\">\n",
       "      <th></th>\n",
       "      <th>id</th>\n",
       "      <th>keyword</th>\n",
       "      <th>location</th>\n",
       "      <th>text</th>\n",
       "      <th>target</th>\n",
       "    </tr>\n",
       "  </thead>\n",
       "  <tbody>\n",
       "    <tr>\n",
       "      <th>0</th>\n",
       "      <td>1</td>\n",
       "      <td>NaN</td>\n",
       "      <td>NaN</td>\n",
       "      <td>Our Deeds are the Reason of this #earthquake May ALLAH Forgive us all</td>\n",
       "      <td>1</td>\n",
       "    </tr>\n",
       "    <tr>\n",
       "      <th>1</th>\n",
       "      <td>4</td>\n",
       "      <td>NaN</td>\n",
       "      <td>NaN</td>\n",
       "      <td>Forest fire near La Ronge Sask. Canada</td>\n",
       "      <td>1</td>\n",
       "    </tr>\n",
       "    <tr>\n",
       "      <th>2</th>\n",
       "      <td>5</td>\n",
       "      <td>NaN</td>\n",
       "      <td>NaN</td>\n",
       "      <td>All residents asked to 'shelter in place' are being notified by officers. No other evacuation or...</td>\n",
       "      <td>1</td>\n",
       "    </tr>\n",
       "    <tr>\n",
       "      <th>3</th>\n",
       "      <td>6</td>\n",
       "      <td>NaN</td>\n",
       "      <td>NaN</td>\n",
       "      <td>13,000 people receive #wildfires evacuation orders in California</td>\n",
       "      <td>1</td>\n",
       "    </tr>\n",
       "    <tr>\n",
       "      <th>4</th>\n",
       "      <td>7</td>\n",
       "      <td>NaN</td>\n",
       "      <td>NaN</td>\n",
       "      <td>Just got sent this photo from Ruby #Alaska as smoke from #wildfires pours into a school</td>\n",
       "      <td>1</td>\n",
       "    </tr>\n",
       "  </tbody>\n",
       "</table>\n",
       "</div>"
      ],
      "text/plain": [
       "   id keyword location  \\\n",
       "0   1     NaN      NaN   \n",
       "1   4     NaN      NaN   \n",
       "2   5     NaN      NaN   \n",
       "3   6     NaN      NaN   \n",
       "4   7     NaN      NaN   \n",
       "\n",
       "                                                                                                  text  \\\n",
       "0                                Our Deeds are the Reason of this #earthquake May ALLAH Forgive us all   \n",
       "1                                                               Forest fire near La Ronge Sask. Canada   \n",
       "2  All residents asked to 'shelter in place' are being notified by officers. No other evacuation or...   \n",
       "3                                    13,000 people receive #wildfires evacuation orders in California    \n",
       "4             Just got sent this photo from Ruby #Alaska as smoke from #wildfires pours into a school    \n",
       "\n",
       "   target  \n",
       "0       1  \n",
       "1       1  \n",
       "2       1  \n",
       "3       1  \n",
       "4       1  "
      ]
     },
     "execution_count": 4,
     "metadata": {},
     "output_type": "execute_result"
    }
   ],
   "source": [
    "data = pd.read_csv('nlp-getting-started/train.csv')\n",
    "data.head()"
   ]
  },
  {
   "cell_type": "code",
   "execution_count": 5,
   "metadata": {},
   "outputs": [
    {
     "name": "stdout",
     "output_type": "stream",
     "text": [
      "The training set has 7613 rows and 5 columns.\n"
     ]
    }
   ],
   "source": [
    "print(\"The training set has {} rows and {} columns.\".format(data.shape[0], data.shape[1]))"
   ]
  },
  {
   "cell_type": "code",
   "execution_count": 6,
   "metadata": {},
   "outputs": [
    {
     "name": "stdout",
     "output_type": "stream",
     "text": [
      "The training set has 87 duplicated rows.\n"
     ]
    }
   ],
   "source": [
    "print(\"The training set has {} duplicated rows.\".format(data.drop('id',axis=1).duplicated(keep=False).sum()))"
   ]
  },
  {
   "cell_type": "code",
   "execution_count": 7,
   "metadata": {},
   "outputs": [
    {
     "data": {
      "text/html": [
       "<div>\n",
       "<style scoped>\n",
       "    .dataframe tbody tr th:only-of-type {\n",
       "        vertical-align: middle;\n",
       "    }\n",
       "\n",
       "    .dataframe tbody tr th {\n",
       "        vertical-align: top;\n",
       "    }\n",
       "\n",
       "    .dataframe thead th {\n",
       "        text-align: right;\n",
       "    }\n",
       "</style>\n",
       "<table border=\"1\" class=\"dataframe\">\n",
       "  <thead>\n",
       "    <tr style=\"text-align: right;\">\n",
       "      <th></th>\n",
       "      <th>id</th>\n",
       "      <th>keyword</th>\n",
       "      <th>location</th>\n",
       "      <th>text</th>\n",
       "      <th>target</th>\n",
       "    </tr>\n",
       "  </thead>\n",
       "  <tbody>\n",
       "    <tr>\n",
       "      <th>2832</th>\n",
       "      <td>4076</td>\n",
       "      <td>displaced</td>\n",
       "      <td>Pedophile hunting ground</td>\n",
       "      <td>.POTUS #StrategicPatience is a strategy for #Genocide; refugees; IDP Internally displaced people...</td>\n",
       "      <td>0</td>\n",
       "    </tr>\n",
       "    <tr>\n",
       "      <th>3985</th>\n",
       "      <td>5662</td>\n",
       "      <td>floods</td>\n",
       "      <td>NaN</td>\n",
       "      <td>Who is bringing the tornadoes and floods. Who is bringing the climate change. God is after Ameri...</td>\n",
       "      <td>1</td>\n",
       "    </tr>\n",
       "    <tr>\n",
       "      <th>4232</th>\n",
       "      <td>6012</td>\n",
       "      <td>hazardous</td>\n",
       "      <td>NaN</td>\n",
       "      <td>Caution: breathing may be hazardous to your health.</td>\n",
       "      <td>1</td>\n",
       "    </tr>\n",
       "    <tr>\n",
       "      <th>4235</th>\n",
       "      <td>6017</td>\n",
       "      <td>hazardous</td>\n",
       "      <td>NaN</td>\n",
       "      <td>Caution: breathing may be hazardous to your health.</td>\n",
       "      <td>0</td>\n",
       "    </tr>\n",
       "    <tr>\n",
       "      <th>4305</th>\n",
       "      <td>6112</td>\n",
       "      <td>hellfire</td>\n",
       "      <td>NaN</td>\n",
       "      <td>Hellfire is surrounded by desires so be careful and donÛªt let your desires control you! #After...</td>\n",
       "      <td>1</td>\n",
       "    </tr>\n",
       "    <tr>\n",
       "      <th>4379</th>\n",
       "      <td>6220</td>\n",
       "      <td>hijacker</td>\n",
       "      <td>worldwide</td>\n",
       "      <td>RT NotExplained: The only known image of infamous hijacker D.B. Cooper. http://t.co/JlzK2HdeTG</td>\n",
       "      <td>0</td>\n",
       "    </tr>\n",
       "    <tr>\n",
       "      <th>4381</th>\n",
       "      <td>6223</td>\n",
       "      <td>hijacker</td>\n",
       "      <td>worldwide</td>\n",
       "      <td>RT NotExplained: The only known image of infamous hijacker D.B. Cooper. http://t.co/JlzK2HdeTG</td>\n",
       "      <td>1</td>\n",
       "    </tr>\n",
       "    <tr>\n",
       "      <th>4618</th>\n",
       "      <td>6566</td>\n",
       "      <td>injury</td>\n",
       "      <td>NaN</td>\n",
       "      <td>CLEARED:incident with injury:I-495  inner loop Exit 31 - MD 97/Georgia Ave Silver Spring</td>\n",
       "      <td>0</td>\n",
       "    </tr>\n",
       "    <tr>\n",
       "      <th>5620</th>\n",
       "      <td>8018</td>\n",
       "      <td>refugees</td>\n",
       "      <td>NaN</td>\n",
       "      <td>wowo--=== 12000 Nigerian refugees repatriated from Cameroon</td>\n",
       "      <td>1</td>\n",
       "    </tr>\n",
       "    <tr>\n",
       "      <th>5641</th>\n",
       "      <td>8044</td>\n",
       "      <td>refugees</td>\n",
       "      <td>NaN</td>\n",
       "      <td>wowo--=== 12000 Nigerian refugees repatriated from Cameroon</td>\n",
       "      <td>0</td>\n",
       "    </tr>\n",
       "  </tbody>\n",
       "</table>\n",
       "</div>"
      ],
      "text/plain": [
       "        id    keyword                  location  \\\n",
       "2832  4076  displaced  Pedophile hunting ground   \n",
       "3985  5662     floods                       NaN   \n",
       "4232  6012  hazardous                       NaN   \n",
       "4235  6017  hazardous                       NaN   \n",
       "4305  6112   hellfire                       NaN   \n",
       "4379  6220   hijacker                 worldwide   \n",
       "4381  6223   hijacker                 worldwide   \n",
       "4618  6566     injury                       NaN   \n",
       "5620  8018   refugees                       NaN   \n",
       "5641  8044   refugees                       NaN   \n",
       "\n",
       "                                                                                                     text  \\\n",
       "2832  .POTUS #StrategicPatience is a strategy for #Genocide; refugees; IDP Internally displaced people...   \n",
       "3985  Who is bringing the tornadoes and floods. Who is bringing the climate change. God is after Ameri...   \n",
       "4232                                                  Caution: breathing may be hazardous to your health.   \n",
       "4235                                                  Caution: breathing may be hazardous to your health.   \n",
       "4305  Hellfire is surrounded by desires so be careful and donÛªt let your desires control you! #After...   \n",
       "4379       RT NotExplained: The only known image of infamous hijacker D.B. Cooper. http://t.co/JlzK2HdeTG   \n",
       "4381       RT NotExplained: The only known image of infamous hijacker D.B. Cooper. http://t.co/JlzK2HdeTG   \n",
       "4618             CLEARED:incident with injury:I-495  inner loop Exit 31 - MD 97/Georgia Ave Silver Spring   \n",
       "5620                                          wowo--=== 12000 Nigerian refugees repatriated from Cameroon   \n",
       "5641                                          wowo--=== 12000 Nigerian refugees repatriated from Cameroon   \n",
       "\n",
       "      target  \n",
       "2832       0  \n",
       "3985       1  \n",
       "4232       1  \n",
       "4235       0  \n",
       "4305       1  \n",
       "4379       0  \n",
       "4381       1  \n",
       "4618       0  \n",
       "5620       1  \n",
       "5641       0  "
      ]
     },
     "execution_count": 7,
     "metadata": {},
     "output_type": "execute_result"
    }
   ],
   "source": [
    "data[(data.drop(['id', 'target'], axis=1).duplicated(keep=False)) & ~(data.drop(['id'], axis=1).duplicated(keep=False))]"
   ]
  },
  {
   "cell_type": "code",
   "execution_count": 8,
   "metadata": {},
   "outputs": [
    {
     "data": {
      "text/html": [
       "<div>\n",
       "<style scoped>\n",
       "    .dataframe tbody tr th:only-of-type {\n",
       "        vertical-align: middle;\n",
       "    }\n",
       "\n",
       "    .dataframe tbody tr th {\n",
       "        vertical-align: top;\n",
       "    }\n",
       "\n",
       "    .dataframe thead th {\n",
       "        text-align: right;\n",
       "    }\n",
       "</style>\n",
       "<table border=\"1\" class=\"dataframe\">\n",
       "  <thead>\n",
       "    <tr style=\"text-align: right;\">\n",
       "      <th></th>\n",
       "      <th>id</th>\n",
       "      <th>keyword</th>\n",
       "      <th>location</th>\n",
       "      <th>text</th>\n",
       "      <th>target</th>\n",
       "    </tr>\n",
       "  </thead>\n",
       "  <tbody>\n",
       "    <tr>\n",
       "      <th>4597</th>\n",
       "      <td>6537</td>\n",
       "      <td>injury</td>\n",
       "      <td>NaN</td>\n",
       "      <td>CLEARED:incident with injury:I-495  inner loop Exit 31 - MD 97/Georgia Ave Silver Spring</td>\n",
       "      <td>1</td>\n",
       "    </tr>\n",
       "    <tr>\n",
       "      <th>4605</th>\n",
       "      <td>6548</td>\n",
       "      <td>injury</td>\n",
       "      <td>NaN</td>\n",
       "      <td>CLEARED:incident with injury:I-495  inner loop Exit 31 - MD 97/Georgia Ave Silver Spring</td>\n",
       "      <td>1</td>\n",
       "    </tr>\n",
       "    <tr>\n",
       "      <th>4618</th>\n",
       "      <td>6566</td>\n",
       "      <td>injury</td>\n",
       "      <td>NaN</td>\n",
       "      <td>CLEARED:incident with injury:I-495  inner loop Exit 31 - MD 97/Georgia Ave Silver Spring</td>\n",
       "      <td>0</td>\n",
       "    </tr>\n",
       "  </tbody>\n",
       "</table>\n",
       "</div>"
      ],
      "text/plain": [
       "        id keyword location  \\\n",
       "4597  6537  injury      NaN   \n",
       "4605  6548  injury      NaN   \n",
       "4618  6566  injury      NaN   \n",
       "\n",
       "                                                                                          text  \\\n",
       "4597  CLEARED:incident with injury:I-495  inner loop Exit 31 - MD 97/Georgia Ave Silver Spring   \n",
       "4605  CLEARED:incident with injury:I-495  inner loop Exit 31 - MD 97/Georgia Ave Silver Spring   \n",
       "4618  CLEARED:incident with injury:I-495  inner loop Exit 31 - MD 97/Georgia Ave Silver Spring   \n",
       "\n",
       "      target  \n",
       "4597       1  \n",
       "4605       1  \n",
       "4618       0  "
      ]
     },
     "execution_count": 8,
     "metadata": {},
     "output_type": "execute_result"
    }
   ],
   "source": [
    "data[data.text.str.contains('CLEARED:incident with injury:I-495')]"
   ]
  },
  {
   "cell_type": "markdown",
   "metadata": {},
   "source": [
    "# Analysis\n",
    "\n",
    "-   The training dataset has 87 duplicate rows\n",
    "-   The training dataset contains mislabellings.\n",
    "-   The target column on similar tweets has different labels (1 and 0).\n",
    "-   We are not able to relabel the tweets since we do not know which ones are correctly labelled and which ones are not.\n",
    "-   It could be that the people who were labeling these tweets had different opinions about them being real or fake.\n",
    "-   These tweets may have a negative impact on our overall model analysis.\n",
    "-   The same mislabellings were done in the test data."
   ]
  },
  {
   "cell_type": "code",
   "execution_count": 9,
   "metadata": {},
   "outputs": [
    {
     "data": {
      "text/html": [
       "<div>\n",
       "<style scoped>\n",
       "    .dataframe tbody tr th:only-of-type {\n",
       "        vertical-align: middle;\n",
       "    }\n",
       "\n",
       "    .dataframe tbody tr th {\n",
       "        vertical-align: top;\n",
       "    }\n",
       "\n",
       "    .dataframe thead th {\n",
       "        text-align: right;\n",
       "    }\n",
       "</style>\n",
       "<table border=\"1\" class=\"dataframe\">\n",
       "  <thead>\n",
       "    <tr style=\"text-align: right;\">\n",
       "      <th></th>\n",
       "      <th>id</th>\n",
       "      <th>keyword</th>\n",
       "      <th>location</th>\n",
       "      <th>text</th>\n",
       "      <th>target</th>\n",
       "    </tr>\n",
       "  </thead>\n",
       "  <tbody>\n",
       "    <tr>\n",
       "      <th>4244</th>\n",
       "      <td>6031</td>\n",
       "      <td>hazardous</td>\n",
       "      <td>New Delhi, Delhi</td>\n",
       "      <td>#foodscare #offers2go #NestleIndia slips into loss after #Magginoodle #ban unsafe and hazardous ...</td>\n",
       "      <td>0</td>\n",
       "    </tr>\n",
       "    <tr>\n",
       "      <th>4221</th>\n",
       "      <td>5996</td>\n",
       "      <td>hazardous</td>\n",
       "      <td>NaN</td>\n",
       "      <td>#foodscare #offers2go #NestleIndia slips into loss after #Magginoodle #ban unsafe and hazardous ...</td>\n",
       "      <td>1</td>\n",
       "    </tr>\n",
       "    <tr>\n",
       "      <th>7097</th>\n",
       "      <td>10169</td>\n",
       "      <td>violent%20storm</td>\n",
       "      <td>NaN</td>\n",
       "      <td>#stormchase Violent Record Breaking EF-5 El Reno Oklahoma Tornado Nearly Runs Over ... - http://...</td>\n",
       "      <td>1</td>\n",
       "    </tr>\n",
       "    <tr>\n",
       "      <th>7607</th>\n",
       "      <td>10867</td>\n",
       "      <td>NaN</td>\n",
       "      <td>NaN</td>\n",
       "      <td>#stormchase Violent Record Breaking EF-5 El Reno Oklahoma Tornado Nearly Runs Over ... - http://...</td>\n",
       "      <td>1</td>\n",
       "    </tr>\n",
       "    <tr>\n",
       "      <th>7034</th>\n",
       "      <td>10080</td>\n",
       "      <td>typhoon</td>\n",
       "      <td>REPUBLICA DOMINICANA</td>\n",
       "      <td>(#LosDelSonido) Obama Declares Disaster for Typhoon-Devastated Saipan: Obama signs disaster decl...</td>\n",
       "      <td>1</td>\n",
       "    </tr>\n",
       "    <tr>\n",
       "      <th>2719</th>\n",
       "      <td>3905</td>\n",
       "      <td>devastated</td>\n",
       "      <td>REPUBLICA DOMINICANA</td>\n",
       "      <td>(#LosDelSonido) Obama Declares Disaster for Typhoon-Devastated Saipan: Obama signs disaster decl...</td>\n",
       "      <td>1</td>\n",
       "    </tr>\n",
       "    <tr>\n",
       "      <th>3610</th>\n",
       "      <td>5153</td>\n",
       "      <td>fatal</td>\n",
       "      <td>Dimapur</td>\n",
       "      <td>11-Year-Old Boy Charged With Manslaughter of Toddler: Report: An 11-year-old boy has been charge...</td>\n",
       "      <td>1</td>\n",
       "    </tr>\n",
       "    <tr>\n",
       "      <th>3604</th>\n",
       "      <td>5145</td>\n",
       "      <td>fatal</td>\n",
       "      <td>Bangalore</td>\n",
       "      <td>11-Year-Old Boy Charged With Manslaughter of Toddler: Report: An 11-year-old boy has been charge...</td>\n",
       "      <td>1</td>\n",
       "    </tr>\n",
       "    <tr>\n",
       "      <th>3591</th>\n",
       "      <td>5130</td>\n",
       "      <td>fatal</td>\n",
       "      <td>Thane</td>\n",
       "      <td>11-Year-Old Boy Charged With Manslaughter of Toddler: Report: An 11-year-old boy has been charge...</td>\n",
       "      <td>1</td>\n",
       "    </tr>\n",
       "    <tr>\n",
       "      <th>3589</th>\n",
       "      <td>5127</td>\n",
       "      <td>fatal</td>\n",
       "      <td>Varanasi</td>\n",
       "      <td>11-Year-Old Boy Charged With Manslaughter of Toddler: Report: An 11-year-old boy has been charge...</td>\n",
       "      <td>1</td>\n",
       "    </tr>\n",
       "  </tbody>\n",
       "</table>\n",
       "</div>"
      ],
      "text/plain": [
       "         id          keyword              location  \\\n",
       "4244   6031        hazardous      New Delhi, Delhi   \n",
       "4221   5996        hazardous                   NaN   \n",
       "7097  10169  violent%20storm                   NaN   \n",
       "7607  10867              NaN                   NaN   \n",
       "7034  10080          typhoon  REPUBLICA DOMINICANA   \n",
       "2719   3905       devastated  REPUBLICA DOMINICANA   \n",
       "3610   5153            fatal               Dimapur   \n",
       "3604   5145            fatal             Bangalore   \n",
       "3591   5130            fatal                 Thane   \n",
       "3589   5127            fatal              Varanasi   \n",
       "\n",
       "                                                                                                     text  \\\n",
       "4244  #foodscare #offers2go #NestleIndia slips into loss after #Magginoodle #ban unsafe and hazardous ...   \n",
       "4221  #foodscare #offers2go #NestleIndia slips into loss after #Magginoodle #ban unsafe and hazardous ...   \n",
       "7097  #stormchase Violent Record Breaking EF-5 El Reno Oklahoma Tornado Nearly Runs Over ... - http://...   \n",
       "7607  #stormchase Violent Record Breaking EF-5 El Reno Oklahoma Tornado Nearly Runs Over ... - http://...   \n",
       "7034  (#LosDelSonido) Obama Declares Disaster for Typhoon-Devastated Saipan: Obama signs disaster decl...   \n",
       "2719  (#LosDelSonido) Obama Declares Disaster for Typhoon-Devastated Saipan: Obama signs disaster decl...   \n",
       "3610  11-Year-Old Boy Charged With Manslaughter of Toddler: Report: An 11-year-old boy has been charge...   \n",
       "3604  11-Year-Old Boy Charged With Manslaughter of Toddler: Report: An 11-year-old boy has been charge...   \n",
       "3591  11-Year-Old Boy Charged With Manslaughter of Toddler: Report: An 11-year-old boy has been charge...   \n",
       "3589  11-Year-Old Boy Charged With Manslaughter of Toddler: Report: An 11-year-old boy has been charge...   \n",
       "\n",
       "      target  \n",
       "4244       0  \n",
       "4221       1  \n",
       "7097       1  \n",
       "7607       1  \n",
       "7034       1  \n",
       "2719       1  \n",
       "3610       1  \n",
       "3604       1  \n",
       "3591       1  \n",
       "3589       1  "
      ]
     },
     "execution_count": 9,
     "metadata": {},
     "output_type": "execute_result"
    }
   ],
   "source": [
    "data[(data['text'].duplicated(keep=False)) & ~(data.drop(['id','target'], axis=1).duplicated(keep=False))].sort_values(by=\"text\")[10:20]\n"
   ]
  },
  {
   "cell_type": "code",
   "execution_count": 10,
   "metadata": {},
   "outputs": [
    {
     "name": "stdout",
     "output_type": "stream",
     "text": [
      "There are 82 tweets with same content but different locations.\n"
     ]
    }
   ],
   "source": [
    "print(\"There are {} tweets with same content but different locations.\".format(data[(data['text'].duplicated(keep=False)) & ~(data.drop(['id','target'], axis=1).duplicated(keep=False))].shape[0]))"
   ]
  },
  {
   "cell_type": "markdown",
   "metadata": {},
   "source": [
    "# Tweets locations\n",
    "\n",
    "\n",
    "-   There some tweets with same content but different locations/keywords.\n",
    "-   The difference in keywords might be a labelling error however,\n",
    "-   The difference in locations may be due to retweets. One tweet may be retweeted many times by people from different locations.\n",
    "-   Nothing much can be done on this; only small fraction of tweets are affected.\n",
    "-   Keyword and location features have missing values equal to 0.8% and 33.3% respectively.\n",
    "-   The missing location values may be due to the user not allowing Twitter to access their location and hence the location could not be extracted during data tweets collection."
   ]
  },
  {
   "cell_type": "markdown",
   "metadata": {},
   "source": [
    "# Exclusion of Keyword and Location features"
   ]
  },
  {
   "cell_type": "markdown",
   "metadata": {},
   "source": [
    "### 25 most common used keywords in the dataset"
   ]
  },
  {
   "cell_type": "markdown",
   "metadata": {},
   "source": [
    "## Keyword"
   ]
  },
  {
   "cell_type": "code",
   "execution_count": 17,
   "metadata": {},
   "outputs": [
    {
     "data": {
      "image/png": "[encoded data removed]",
      "text/plain": [
       "<Figure size 432x288 with 1 Axes>"
      ]
     },
     "metadata": {
      "needs_background": "light"
     },
     "output_type": "display_data"
    }
   ],
   "source": [
    "keyword = data[['keyword', 'target']].groupby('keyword')['target'].agg(frequencies= 'mean', count = 'size').reset_index().sort_values(by='count', ascending=True)\n",
    "\n",
    "sns.barplot(y='keyword', x='count', data=keyword.iloc[:25], color='orange')\n",
    "plt.gca().set_xlabel('Count')\n",
    "plt.gca().set_ylabel('Keywords')\n",
    "plt.suptitle(\"25 most occurring Keywords\", size=15)\n",
    "plt.show()"
   ]
  },
  {
   "cell_type": "code",
   "execution_count": 15,
   "metadata": {},
   "outputs": [
    {
     "data": {
      "image/png": "[encoded data removed]",
      "text/plain": [
       "<Figure size 432x288 with 1 Axes>"
      ]
     },
     "metadata": {
      "needs_background": "light"
     },
     "output_type": "display_data"
    }
   ],
   "source": [
    "keyword.sort_values(by='frequencies', ascending=True, inplace=True)\n",
    "sns.barplot(y='keyword', x='frequencies', data=keyword.iloc[:25], color='orange')\n",
    "plt.gca().set_xlabel('Frequency of disasters')\n",
    "plt.gca().set_ylabel('Keywords')\n",
    "plt.suptitle(\"25 highest frequencies of disaster by keyword\", size=15)\n",
    "plt.show()"
   ]
  },
  {
   "cell_type": "markdown",
   "metadata": {},
   "source": [
    "-   Word occurences in real or fake disaster tweets would not accurately reveal the impact of particular keyword in classification.\n",
    "-   A keyword may appear many times both in real or fake disaster tweets. \n",
    "-   A keyword may also appear fewer in times both two categories.\n",
    "-   Hence, its cumbersome to calculate the impact and influence of a keyword from its number of occurences.\n",
    "-   Rather, computing the frequency of tweets relating disasters amongh those having a particular keyword is more efficient. \n",
    "-  The results may be deceiving.\n",
    "-  A frequency of disaster equaling to 100% for a keyword that appeared once in a row is a possibility.\n",
    "-  So, the reliability of the results would depend of the number of times each keyword appeard in the training dataset.\n",
    "-  After some analysis, 20 keywords associated with the highest frequencies of disaster occurred between 29 and 40 times with an average of 34.8.\n",
    "-  115 rows had keywords 'debris', 'wreckage', or 'derailment'.\n",
    "-  The 20 keywords associated with the lowest frequencies of disaster occured between 12 and 41 times with an average of 33.7.\n",
    "-  But since the keyword also appears in the text tweet, the keyword column(feature) can be dropped."
   ]
  },
  {
   "cell_type": "markdown",
   "metadata": {},
   "source": [
    "## Location"
   ]
  },
  {
   "cell_type": "code",
   "execution_count": 18,
   "metadata": {},
   "outputs": [
    {
     "data": {
      "image/png": "[encoded data removed]",
      "text/plain": [
       "<Figure size 432x288 with 1 Axes>"
      ]
     },
     "metadata": {
      "needs_background": "light"
     },
     "output_type": "display_data"
    }
   ],
   "source": [
    "location = data[['location', 'target']].groupby('location')['target'].agg(frequencies= 'mean', count = 'size').reset_index().sort_values(by='frequencies', ascending=True)\n",
    "x_value = location.frequencies.apply(lambda x:np.round(x,1)).value_counts().index\n",
    "y_value = location.frequencies.apply(lambda x:np.round(x,1)).value_counts()\n",
    "y_value = y_value/np.sum(y_value)\n",
    "y_value*=100\n",
    "\n",
    "sns.barplot(x=x_value, y=y_value, color='orange')\n",
    "plt.gca().set_xlabel('Frequency of disasters')\n",
    "plt.gca().set_ylabel('Proportion of locations')\n",
    "plt.gca().set_yticklabels([])\n",
    "plt.gca().set_xbound(-0.5, 11)\n",
    "plt.gca().set_ybound(0, 65)\n",
    "\n",
    "for i in range(11):\n",
    "  plt.annotate(str(round(y_value.loc[i/10], 1))+'%', xy=(i-0.4,y_value.loc[i/10]+1), size=10)\n",
    "\n",
    "plt.suptitle(\"Proportion of locations by frequency of disasters\", size=15)\n",
    "plt.show()"
   ]
  },
  {
   "cell_type": "code",
   "execution_count": 20,
   "metadata": {},
   "outputs": [
    {
     "data": {
      "image/png": "[encoded data removed]",
      "text/plain": [
       "<Figure size 432x288 with 1 Axes>"
      ]
     },
     "metadata": {
      "needs_background": "light"
     },
     "output_type": "display_data"
    }
   ],
   "source": [
    "x_value = location['count'].value_counts()[:10].index\n",
    "y_value = location['count'].value_counts().to_numpy()\n",
    "y_value = y_value[:10]/np.sum(y_value)\n",
    "y_value *= 100\n",
    "\n",
    "sns.barplot(x=x_value, y=y_value, color='orange')\n",
    "plt.gca().set_ylim([0, 100])\n",
    "plt.gca().set_xlabel('Number of occurrences')\n",
    "plt.gca().set_ylabel('Proportion of locations')\n",
    "\n",
    "for i in range(10):\n",
    "  plt.annotate(str(round(y_value[i], 1))+'%', xy=(i-0.3,y_value[i]+2), size=10)\n",
    "\n",
    "plt.suptitle(\"Proportion of locations by number of occurrences in the training set\", size=15)\n",
    "plt.show()\n"
   ]
  },
  {
   "cell_type": "code",
   "execution_count": 21,
   "metadata": {},
   "outputs": [
    {
     "data": {
      "text/html": [
       "<div>\n",
       "<style scoped>\n",
       "    .dataframe tbody tr th:only-of-type {\n",
       "        vertical-align: middle;\n",
       "    }\n",
       "\n",
       "    .dataframe tbody tr th {\n",
       "        vertical-align: top;\n",
       "    }\n",
       "\n",
       "    .dataframe thead th {\n",
       "        text-align: right;\n",
       "    }\n",
       "</style>\n",
       "<table border=\"1\" class=\"dataframe\">\n",
       "  <thead>\n",
       "    <tr style=\"text-align: right;\">\n",
       "      <th></th>\n",
       "      <th>location</th>\n",
       "      <th>frequencies</th>\n",
       "      <th>count</th>\n",
       "    </tr>\n",
       "  </thead>\n",
       "  <tbody>\n",
       "    <tr>\n",
       "      <th>1826</th>\n",
       "      <td>New York</td>\n",
       "      <td>0.225352</td>\n",
       "      <td>71</td>\n",
       "    </tr>\n",
       "    <tr>\n",
       "      <th>1373</th>\n",
       "      <td>Kenya</td>\n",
       "      <td>0.250000</td>\n",
       "      <td>20</td>\n",
       "    </tr>\n",
       "    <tr>\n",
       "      <th>1534</th>\n",
       "      <td>Los Angeles, CA</td>\n",
       "      <td>0.307692</td>\n",
       "      <td>26</td>\n",
       "    </tr>\n",
       "    <tr>\n",
       "      <th>1506</th>\n",
       "      <td>London</td>\n",
       "      <td>0.355556</td>\n",
       "      <td>45</td>\n",
       "    </tr>\n",
       "    <tr>\n",
       "      <th>587</th>\n",
       "      <td>Canada</td>\n",
       "      <td>0.448276</td>\n",
       "      <td>29</td>\n",
       "    </tr>\n",
       "    <tr>\n",
       "      <th>2662</th>\n",
       "      <td>United States</td>\n",
       "      <td>0.540000</td>\n",
       "      <td>50</td>\n",
       "    </tr>\n",
       "    <tr>\n",
       "      <th>2632</th>\n",
       "      <td>UK</td>\n",
       "      <td>0.592593</td>\n",
       "      <td>27</td>\n",
       "    </tr>\n",
       "    <tr>\n",
       "      <th>2643</th>\n",
       "      <td>USA</td>\n",
       "      <td>0.644231</td>\n",
       "      <td>104</td>\n",
       "    </tr>\n",
       "    <tr>\n",
       "      <th>2778</th>\n",
       "      <td>Washington, DC</td>\n",
       "      <td>0.714286</td>\n",
       "      <td>21</td>\n",
       "    </tr>\n",
       "    <tr>\n",
       "      <th>1860</th>\n",
       "      <td>Nigeria</td>\n",
       "      <td>0.785714</td>\n",
       "      <td>28</td>\n",
       "    </tr>\n",
       "    <tr>\n",
       "      <th>1262</th>\n",
       "      <td>India</td>\n",
       "      <td>0.833333</td>\n",
       "      <td>24</td>\n",
       "    </tr>\n",
       "    <tr>\n",
       "      <th>1719</th>\n",
       "      <td>Mumbai</td>\n",
       "      <td>0.863636</td>\n",
       "      <td>22</td>\n",
       "    </tr>\n",
       "  </tbody>\n",
       "</table>\n",
       "</div>"
      ],
      "text/plain": [
       "             location  frequencies  count\n",
       "1826         New York     0.225352     71\n",
       "1373            Kenya     0.250000     20\n",
       "1534  Los Angeles, CA     0.307692     26\n",
       "1506           London     0.355556     45\n",
       "587            Canada     0.448276     29\n",
       "2662    United States     0.540000     50\n",
       "2632               UK     0.592593     27\n",
       "2643              USA     0.644231    104\n",
       "2778   Washington, DC     0.714286     21\n",
       "1860          Nigeria     0.785714     28\n",
       "1262            India     0.833333     24\n",
       "1719           Mumbai     0.863636     22"
      ]
     },
     "execution_count": 21,
     "metadata": {},
     "output_type": "execute_result"
    }
   ],
   "source": [
    "location[location['count']>=20]"
   ]
  },
  {
   "cell_type": "markdown",
   "metadata": {},
   "source": [
    "## Analysis"
   ]
  },
  {
   "cell_type": "markdown",
   "metadata": {},
   "source": [
    " -  In actual fact, one could argue that all the tweets are associated with a particular location (whether disaster or not).\n",
    "-   Most of the locations occur once in the training dataset.\n",
    "-   The link between the location and the frequency of disaster is not clear.\n",
    "-   For instance, the location 'New York City' occurs to times and is labeled as a disaster with frequency 60%.\n",
    "-   Location 'New York, NY' appears 15 times and have a frequency of disaster equal to 47%. \n",
    "-   Location 'New York' appears in 71 tweets and 23% of those are about real disasters.\n",
    "-   Location 'NYC' appears 12 times and have a frequency of disaster equals to 17%.\n",
    "-   From this information, it is clear that there is a huge variability of the link between a location and its frequency of disaster.\n",
    "-   However, there are few locations with reliable indications. This include 'USA' which appears 104 times and has 64% of its tweets being disasters. \n",
    "-   One can argue that the meaningfulness of the frequency of disasters relies upon the substantial amount of tweets characterizing a particular location. \n",
    "-   Unfortunately, most locations appear only once and thus would not give a good indication about a tweet being real or fake."
   ]
  },
  {
   "cell_type": "code",
   "execution_count": null,
   "metadata": {},
   "outputs": [],
   "source": []
  }
 ],
 "metadata": {
  "kernelspec": {
   "display_name": "Python 3",
   "language": "python",
   "name": "python3"
  },
  "language_info": {
   "codemirror_mode": {
    "name": "ipython",
    "version": 3
   },
   "file_extension": ".py",
   "mimetype": "text/x-python",
   "name": "python",
   "nbconvert_exporter": "python",
   "pygments_lexer": "ipython3",
   "version": "3.7.6"
  }
 },
 "nbformat": 4,
 "nbformat_minor": 4
}
